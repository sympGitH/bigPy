{
 "cells": [
  {
   "cell_type": "markdown",
   "metadata": {},
   "source": [
    "#### 연습\n",
    "../modules 폴더에 helloworld.py 모듈이 있다. 모듈을 불러와 다음을 수행\n",
    "\n",
    "1. 인사 ('윤군') --> '안녕하세요. 윤군 님!'\n",
    "2. 함수 감사(누구)를 모듈에 추가하고, 다음과 같이 실행 후 결과 확인 \n",
    " - 감사('윤군') --> '감사합니다. 윤군 님'"
   ]
  },
  {
   "cell_type": "code",
   "execution_count": 10,
   "metadata": {
    "collapsed": false
   },
   "outputs": [],
   "source": [
    "import sys, os\n",
    "# 절대경로를 알려줌 - '/Users/Koon/Documents/bigpy/modules'\n",
    "sys.path.append(os.path.abspath('./modules/'))\n",
    "\n",
    "from helloworld import hello,thanks"
   ]
  },
  {
   "cell_type": "code",
   "execution_count": 15,
   "metadata": {
    "collapsed": false
   },
   "outputs": [
    {
     "data": {
      "text/plain": [
       "'안녕하세요. Youn Koon 님!'"
      ]
     },
     "execution_count": 15,
     "metadata": {},
     "output_type": "execute_result"
    }
   ],
   "source": [
    "hello('Youn Koon')"
   ]
  },
  {
   "cell_type": "code",
   "execution_count": 16,
   "metadata": {
    "collapsed": false
   },
   "outputs": [
    {
     "data": {
      "text/plain": [
       "'감사합니다. Youn Koon 님!'"
      ]
     },
     "execution_count": 16,
     "metadata": {},
     "output_type": "execute_result"
    }
   ],
   "source": [
    "thanks('Youn Koon')"
   ]
  },
  {
   "cell_type": "code",
   "execution_count": 17,
   "metadata": {
    "collapsed": false
   },
   "outputs": [
    {
     "data": {
      "text/plain": [
       "['__builtins__',\n",
       " '__cached__',\n",
       " '__doc__',\n",
       " '__file__',\n",
       " '__loader__',\n",
       " '__name__',\n",
       " '__package__',\n",
       " '__spec__',\n",
       " 'hello',\n",
       " 'thanks']"
      ]
     },
     "execution_count": 17,
     "metadata": {},
     "output_type": "execute_result"
    }
   ],
   "source": [
    "import helloworld\n",
    "dir(helloworld) # import helloworld 를 해야만 dir 정보가 나옴"
   ]
  },
  {
   "cell_type": "markdown",
   "metadata": {},
   "source": [
    "## 모듈 직접 실행하기\n",
    "1. 명령프롬프트 : $python script.py\n",
    "2. IPython: %run script.py"
   ]
  },
  {
   "cell_type": "code",
   "execution_count": 27,
   "metadata": {
    "collapsed": false
   },
   "outputs": [
    {
     "name": "stdout",
     "output_type": "stream",
     "text": [
      "['./modules/helloworld.py', '윤군', '나나나']\n",
      "감사합니다. 윤군 님!\n",
      "감사합니다. 나나나 님!\n"
     ]
    }
   ],
   "source": [
    "%run ./modules/helloworld.py '윤군' '나나나'"
   ]
  },
  {
   "cell_type": "markdown",
   "metadata": {},
   "source": [
    "#### 연습 \n",
    "./modules/exim.py 모듈에 대해 다음을 수행\n",
    "1. 1개 이상의 엑셀 파일 경로를 인자로 제공받아 제공받은 엑셀 파일 목록을 출력\n",
    "2. 디렉토리 경로를 제공했을 때는 해당 디렉토리의 모든 파일을 출력\n",
    "2. 각 엑셀 파일에 대해 표를 출력하고, 각 표를 독립된 시트로 저장한 다음 *새로운파일명*으로 결과 엑셀 파일을 저장하도록 프로그램을 작성한다."
   ]
  },
  {
   "cell_type": "code",
   "execution_count": 33,
   "metadata": {
    "collapsed": false
   },
   "outputs": [
    {
     "name": "stdout",
     "output_type": "stream",
     "text": [
      "처리 대상 파일목록\n",
      "Global+Market+Daily+Table%28%EA%B0%92%EB%B3%B5%EC%82%AC%29_0803.xls\n",
      "Global+Market+Daily+Table%28%EA%B0%92%EB%B3%B5%EC%82%AC%29_0804.xls\n",
      "Global+Market+Daily+Table%28%EA%B0%92%EB%B3%B5%EC%82%AC%29_0805.xls\n",
      "Global+Market+Daily+Table%28%EA%B0%92%EB%B3%B5%EC%82%AC%29_0806.xls\n",
      "Global+Market+Daily+Table%28%EA%B0%92%EB%B3%B5%EC%82%AC%29_0807.xls\n",
      "Global+Market+Daily+Table%28%EA%B0%92%EB%B3%B5%EC%82%AC%29_0810.xls\n",
      "Global+Market+Daily+Table%28%EA%B0%92%EB%B3%B5%EC%82%AC%29_0811.xls\n",
      "Global+Market+Daily+Table%28%EA%B0%92%EB%B3%B5%EC%82%AC%29_0812.xls\n",
      "Global+Market+Daily+Table%28%EA%B0%92%EB%B3%B5%EC%82%AC%29_0814.xls\n",
      "Global+Market+Daily+Table%28%EA%B0%92%EB%B3%B5%EC%82%AC%29_0817.xls\n",
      "Global+Market+Daily+Table%28%EA%B0%92%EB%B3%B5%EC%82%AC%29_0818.xls\n",
      "Global+Market+Daily+Table%28%EA%B0%92%EB%B3%B5%EC%82%AC%29_0819.xls\n",
      "Global+Market+Daily+Table%28%EA%B0%92%EB%B3%B5%EC%82%AC%29_0821.xls\n",
      "Global+Market+Daily+Table%28%EA%B0%92%EB%B3%B5%EC%82%AC%29_0824.xls\n",
      "Global+Market+Daily+Table%28%EA%B0%92%EB%B3%B5%EC%82%AC%29_0825.xls\n",
      "Global+Market+Daily+Table%28%EA%B0%92%EB%B3%B5%EC%82%AC%29_0826.xls\n",
      "Global+Market+Daily+Table%28%EA%B0%92%EB%B3%B5%EC%82%AC%29_0827.xls\n",
      "Global+Market+Daily+Table%28%EA%B0%92%EB%B3%B5%EC%82%AC%29_0828.xls\n",
      "Global+Market+Daily+Table%28%EA%B0%92%EB%B3%B5%EC%82%AC%29_0831.xls\n",
      "Global+Market+Daily+Table%28%EA%B0%92%EB%B3%B5%EC%82%AC%29_0901.xls\n",
      "Global+Market+Daily+Table%28%EA%B0%92%EB%B3%B5%EC%82%AC%29_0902.xls\n",
      "Global+Market+Daily+Table%28%EA%B0%92%EB%B3%B5%EC%82%AC%29_0903.xls\n",
      "Global+Market+Daily+Table%28%EA%B0%92%EB%B3%B5%EC%82%AC%29_0904.xls\n",
      "Global+Market+Daily+Table%28%EA%B0%92%EB%B3%B5%EC%82%AC%29_0907.xls\n",
      "Global+Market+Daily+Table%28%EA%B0%92%EB%B3%B5%EC%82%AC%29_0908.xls\n",
      "Global+Market+Daily+Table%28%EA%B0%92%EB%B3%B5%EC%82%AC%29_0909.xls\n",
      "Global+Market+Daily+Table%28%EA%B0%92%EB%B3%B5%EC%82%AC%29_0910.xls\n",
      "Global+Market+Daily+Table%28%EA%B0%92%EB%B3%B5%EC%82%AC%29_0911.xls\n",
      "Global+Market+Daily+Table%28%EA%B0%92%EB%B3%B5%EC%82%AC%29_0914.xls\n",
      "Global+Market+Daily+Table%28%EA%B0%92%EB%B3%B5%EC%82%AC%29_0915.xls\n",
      "Global+Market+Daily+Table%28%EA%B0%92%EB%B3%B5%EC%82%AC%29_0916.xls\n",
      "Global+Market+Daily+Table%28%EA%B0%92%EB%B3%B5%EC%82%AC%29_0917.xls\n"
     ]
    }
   ],
   "source": [
    "%run ./modules/exim.py './data/koreaexim/international/'"
   ]
  },
  {
   "cell_type": "code",
   "execution_count": null,
   "metadata": {
    "collapsed": true
   },
   "outputs": [],
   "source": []
  }
 ],
 "metadata": {
  "kernelspec": {
   "display_name": "Python 3",
   "language": "python",
   "name": "python3"
  },
  "language_info": {
   "codemirror_mode": {
    "name": "ipython",
    "version": 3
   },
   "file_extension": ".py",
   "mimetype": "text/x-python",
   "name": "python",
   "nbconvert_exporter": "python",
   "pygments_lexer": "ipython3",
   "version": "3.5.1"
  }
 },
 "nbformat": 4,
 "nbformat_minor": 0
}
