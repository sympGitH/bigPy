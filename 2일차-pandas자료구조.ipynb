{
 "cells": [
  {
   "cell_type": "code",
   "execution_count": 31,
   "metadata": {
    "collapsed": true
   },
   "outputs": [],
   "source": [
    "import pandas as pd\n",
    "import os\n",
    "import numpy as np\n",
    "\n",
    "%matplotlib inline"
   ]
  },
  {
   "cell_type": "code",
   "execution_count": 2,
   "metadata": {
    "collapsed": true
   },
   "outputs": [],
   "source": [
    "nc15=pd.read_excel('./data/NC Dinos 2015.xlsx')"
   ]
  },
  {
   "cell_type": "markdown",
   "metadata": {},
   "source": [
    "데이터프레임의 열은 시리즈입니다."
   ]
  },
  {
   "cell_type": "code",
   "execution_count": 4,
   "metadata": {
    "collapsed": true
   },
   "outputs": [
    {
     "data": {
      "text/plain": [
       "0     테임즈\n",
       "1     나성범\n",
       "2     박민우\n",
       "3     이호준\n",
       "4     김종호\n",
       "5     조영훈\n",
       "6     손시헌\n",
       "7     이종욱\n",
       "8     모창민\n",
       "9     지석훈\n",
       "10    용덕한\n",
       "11    최재원\n",
       "12    박정준\n",
       "13    김태군\n",
       "14    조평호\n",
       "15    이창섭\n",
       "16    김준완\n",
       "17    강구성\n",
       "18    강민국\n",
       "19    김태진\n",
       "Name: 선수명, dtype: object"
      ]
     },
     "execution_count": 4,
     "metadata": {},
     "output_type": "execute_result"
    }
   ],
   "source": [
    "선수명=nc15['선수명']\n",
    "선수명"
   ]
  },
  {
   "cell_type": "code",
   "execution_count": 5,
   "metadata": {
    "collapsed": false
   },
   "outputs": [
    {
     "data": {
      "text/plain": [
       "0    테임즈\n",
       "1    나성범\n",
       "2    박민우\n",
       "3    이호준\n",
       "dtype: object"
      ]
     },
     "execution_count": 5,
     "metadata": {},
     "output_type": "execute_result"
    }
   ],
   "source": [
    "pd.Series(['테임즈', '나성범', '박민우', '이호준'])"
   ]
  },
  {
   "cell_type": "code",
   "execution_count": 7,
   "metadata": {
    "collapsed": false
   },
   "outputs": [
    {
     "data": {
      "text/plain": [
       "RangeIndex(start=0, stop=20, step=1)"
      ]
     },
     "execution_count": 7,
     "metadata": {},
     "output_type": "execute_result"
    }
   ],
   "source": [
    "선수명.index"
   ]
  },
  {
   "cell_type": "code",
   "execution_count": 8,
   "metadata": {
    "collapsed": false
   },
   "outputs": [
    {
     "data": {
      "text/plain": [
       "array(['테임즈', '나성범', '박민우', '이호준', '김종호', '조영훈', '손시헌', '이종욱', '모창민',\n",
       "       '지석훈', '용덕한', '최재원', '박정준', '김태군', '조평호', '이창섭', '김준완', '강구성',\n",
       "       '강민국', '김태진'], dtype=object)"
      ]
     },
     "execution_count": 8,
     "metadata": {},
     "output_type": "execute_result"
    }
   ],
   "source": [
    "선수명.values"
   ]
  },
  {
   "cell_type": "code",
   "execution_count": 9,
   "metadata": {
    "collapsed": false
   },
   "outputs": [
    {
     "data": {
      "text/plain": [
       "0     180\n",
       "1     184\n",
       "2     158\n",
       "3     132\n",
       "4     125\n",
       "5      35\n",
       "6     108\n",
       "7     118\n",
       "8      62\n",
       "9     111\n",
       "10     12\n",
       "11     21\n",
       "12      8\n",
       "13    107\n",
       "14      8\n",
       "15      0\n",
       "16     10\n",
       "17      1\n",
       "18      0\n",
       "19      0\n",
       "Name: 안타, dtype: int64"
      ]
     },
     "execution_count": 9,
     "metadata": {},
     "output_type": "execute_result"
    }
   ],
   "source": [
    "안타=nc15['안타']\n",
    "안타"
   ]
  },
  {
   "cell_type": "code",
   "execution_count": 10,
   "metadata": {
    "collapsed": true
   },
   "outputs": [],
   "source": [
    "안타=안타[:3]"
   ]
  },
  {
   "cell_type": "code",
   "execution_count": 14,
   "metadata": {
    "collapsed": false
   },
   "outputs": [],
   "source": [
    "안타=pd.Series([180, 184, 158], index=['테임즈', '나성범', '박민우'])"
   ]
  },
  {
   "cell_type": "code",
   "execution_count": 15,
   "metadata": {
    "collapsed": true
   },
   "outputs": [],
   "source": [
    "안타['이호준']=132"
   ]
  },
  {
   "cell_type": "code",
   "execution_count": 16,
   "metadata": {
    "collapsed": false
   },
   "outputs": [
    {
     "data": {
      "text/plain": [
       "테임즈    180\n",
       "나성범    184\n",
       "박민우    158\n",
       "이호준    132\n",
       "dtype: int64"
      ]
     },
     "execution_count": 16,
     "metadata": {},
     "output_type": "execute_result"
    }
   ],
   "source": [
    "안타"
   ]
  },
  {
   "cell_type": "markdown",
   "metadata": {},
   "source": [
    "원하는 순서로 만들기"
   ]
  },
  {
   "cell_type": "code",
   "execution_count": 17,
   "metadata": {
    "collapsed": false
   },
   "outputs": [
    {
     "data": {
      "text/plain": [
       "180"
      ]
     },
     "execution_count": 17,
     "metadata": {},
     "output_type": "execute_result"
    }
   ],
   "source": [
    "안타['테임즈']"
   ]
  },
  {
   "cell_type": "code",
   "execution_count": 20,
   "metadata": {
    "collapsed": false
   },
   "outputs": [
    {
     "data": {
      "text/plain": [
       "테임즈    180\n",
       "박민우    158\n",
       "dtype: int64"
      ]
     },
     "execution_count": 20,
     "metadata": {},
     "output_type": "execute_result"
    }
   ],
   "source": [
    "안타[['테임즈', '박민우']]"
   ]
  },
  {
   "cell_type": "markdown",
   "metadata": {},
   "source": [
    "#### 연습\n",
    "이호준, 박민우, 나성범, 테임즈 순으로 안타 기록이 출력되도록 해 보겠습니다."
   ]
  },
  {
   "cell_type": "code",
   "execution_count": 21,
   "metadata": {
    "collapsed": false
   },
   "outputs": [
    {
     "data": {
      "text/plain": [
       "이호준    132\n",
       "박민우    158\n",
       "나성범    184\n",
       "테임즈    180\n",
       "dtype: int64"
      ]
     },
     "execution_count": 21,
     "metadata": {},
     "output_type": "execute_result"
    }
   ],
   "source": [
    "안타[['이호준', '박민우', '나성범', '테임즈']]"
   ]
  },
  {
   "cell_type": "markdown",
   "metadata": {},
   "source": [
    "#### 연습\n",
    "이성주, 김성주, 박성주의 영문 성은 각각 lee, kim, park 이다. 영문 성을 색인으로 하고, 한글이름값으로 하는 시리즈를 생성해 보겠습니다."
   ]
  },
  {
   "cell_type": "code",
   "execution_count": 22,
   "metadata": {
    "collapsed": true
   },
   "outputs": [],
   "source": [
    "이름=pd.Series(['이성주', '김성주', '박성주'], index=['lee', 'kim', 'park'])"
   ]
  },
  {
   "cell_type": "code",
   "execution_count": 23,
   "metadata": {
    "collapsed": false
   },
   "outputs": [
    {
     "data": {
      "text/plain": [
       "lee     이성주\n",
       "kim     김성주\n",
       "park    박성주\n",
       "dtype: object"
      ]
     },
     "execution_count": 23,
     "metadata": {},
     "output_type": "execute_result"
    }
   ],
   "source": [
    "이름"
   ]
  },
  {
   "cell_type": "code",
   "execution_count": 24,
   "metadata": {
    "collapsed": false
   },
   "outputs": [
    {
     "data": {
      "text/plain": [
       "lee     이성주\n",
       "park    박성주\n",
       "dtype: object"
      ]
     },
     "execution_count": 24,
     "metadata": {},
     "output_type": "execute_result"
    }
   ],
   "source": [
    "이름[['lee', 'park']]"
   ]
  },
  {
   "cell_type": "code",
   "execution_count": 27,
   "metadata": {
    "collapsed": false
   },
   "outputs": [],
   "source": [
    "기준충족여부=안타 > 150"
   ]
  },
  {
   "cell_type": "code",
   "execution_count": 28,
   "metadata": {
    "collapsed": false
   },
   "outputs": [
    {
     "data": {
      "text/plain": [
       "테임즈    180\n",
       "나성범    184\n",
       "박민우    158\n",
       "dtype: int64"
      ]
     },
     "execution_count": 28,
     "metadata": {},
     "output_type": "execute_result"
    }
   ],
   "source": [
    "안타[기준충족여부]"
   ]
  },
  {
   "cell_type": "markdown",
   "metadata": {},
   "source": [
    "사칙연산은 각각의 값에 대해 수행됨"
   ]
  },
  {
   "cell_type": "code",
   "execution_count": 29,
   "metadata": {
    "collapsed": false
   },
   "outputs": [
    {
     "data": {
      "text/plain": [
       "테임즈    198.0\n",
       "나성범    202.4\n",
       "박민우    173.8\n",
       "이호준    145.2\n",
       "dtype: float64"
      ]
     },
     "execution_count": 29,
     "metadata": {},
     "output_type": "execute_result"
    }
   ],
   "source": [
    "안타*1.1"
   ]
  },
  {
   "cell_type": "markdown",
   "metadata": {},
   "source": [
    "파이썬 기본 자료구조는 안 됩니다."
   ]
  },
  {
   "cell_type": "code",
   "execution_count": 30,
   "metadata": {
    "collapsed": false
   },
   "outputs": [
    {
     "data": {
      "text/plain": [
       "[1, 2, 3, 1, 2, 3, 1, 2, 3]"
      ]
     },
     "execution_count": 30,
     "metadata": {},
     "output_type": "execute_result"
    }
   ],
   "source": [
    "[1, 2, 3] * 3"
   ]
  },
  {
   "cell_type": "markdown",
   "metadata": {},
   "source": [
    "좀더 고급의 기능은 numpy scipy에서 가져와서 pandas 자료구조에 적용할 수 있습니다."
   ]
  },
  {
   "cell_type": "code",
   "execution_count": 32,
   "metadata": {
    "collapsed": false
   },
   "outputs": [
    {
     "data": {
      "text/plain": [
       "테임즈    1.489384e+78\n",
       "나성범    8.131762e+79\n",
       "박민우    4.154590e+68\n",
       "이호준    2.122617e+57\n",
       "dtype: float64"
      ]
     },
     "execution_count": 32,
     "metadata": {},
     "output_type": "execute_result"
    }
   ],
   "source": [
    "np.exp(안타)"
   ]
  },
  {
   "cell_type": "markdown",
   "metadata": {},
   "source": [
    "시리즈를 직접 생성하는 또 다른 방식"
   ]
  },
  {
   "cell_type": "code",
   "execution_count": 34,
   "metadata": {
    "collapsed": false
   },
   "outputs": [],
   "source": [
    "데이터={'서울':1500, '대구':250, '부산':500, '대전':300}"
   ]
  },
  {
   "cell_type": "code",
   "execution_count": 35,
   "metadata": {
    "collapsed": false
   },
   "outputs": [
    {
     "data": {
      "text/plain": [
       "{'대구': 250, '대전': 300, '부산': 500, '서울': 1500}"
      ]
     },
     "execution_count": 35,
     "metadata": {},
     "output_type": "execute_result"
    }
   ],
   "source": [
    "데이터"
   ]
  },
  {
   "cell_type": "code",
   "execution_count": 36,
   "metadata": {
    "collapsed": false
   },
   "outputs": [
    {
     "data": {
      "text/plain": [
       "dict"
      ]
     },
     "execution_count": 36,
     "metadata": {},
     "output_type": "execute_result"
    }
   ],
   "source": [
    "type(데이터)"
   ]
  },
  {
   "cell_type": "code",
   "execution_count": 37,
   "metadata": {
    "collapsed": false
   },
   "outputs": [
    {
     "data": {
      "text/plain": [
       "대구     250\n",
       "대전     300\n",
       "부산     500\n",
       "서울    1500\n",
       "dtype: int64"
      ]
     },
     "execution_count": 37,
     "metadata": {},
     "output_type": "execute_result"
    }
   ],
   "source": [
    "pd.Series(데이터)"
   ]
  },
  {
   "cell_type": "markdown",
   "metadata": {},
   "source": [
    "#### 연습\n",
    "이성주, 김성주, 박성주의 회사 계정은 각각 lee, kim, park이다. 계정 정보를 값으로 갖는 시리즈를 사전형 데이터로부터 생성해 보겠습니다."
   ]
  },
  {
   "cell_type": "code",
   "execution_count": 44,
   "metadata": {
    "collapsed": false
   },
   "outputs": [
    {
     "data": {
      "text/plain": [
       "김성주     kim\n",
       "박성주    park\n",
       "이성주     lee\n",
       "dtype: object"
      ]
     },
     "execution_count": 44,
     "metadata": {},
     "output_type": "execute_result"
    }
   ],
   "source": [
    "acc=pd.Series({'이성주':'lee', '김성주':'kim', '박성주':'park'})\n",
    "acc"
   ]
  },
  {
   "cell_type": "code",
   "execution_count": 45,
   "metadata": {
    "collapsed": true
   },
   "outputs": [],
   "source": [
    "acc['장성주']='jang'"
   ]
  },
  {
   "cell_type": "code",
   "execution_count": 46,
   "metadata": {
    "collapsed": false
   },
   "outputs": [
    {
     "data": {
      "text/plain": [
       "김성주     kim\n",
       "박성주    park\n",
       "이성주     lee\n",
       "장성주    jang\n",
       "dtype: object"
      ]
     },
     "execution_count": 46,
     "metadata": {},
     "output_type": "execute_result"
    }
   ],
   "source": [
    "acc"
   ]
  },
  {
   "cell_type": "code",
   "execution_count": 47,
   "metadata": {
    "collapsed": false
   },
   "outputs": [
    {
     "data": {
      "text/html": [
       "<div>\n",
       "<table border=\"1\" class=\"dataframe\">\n",
       "  <thead>\n",
       "    <tr style=\"text-align: right;\">\n",
       "      <th></th>\n",
       "      <th>선수명</th>\n",
       "      <th>팀명</th>\n",
       "      <th>경기</th>\n",
       "      <th>타석</th>\n",
       "      <th>타수</th>\n",
       "      <th>안타</th>\n",
       "      <th>홈런</th>\n",
       "      <th>득점</th>\n",
       "      <th>타점</th>\n",
       "      <th>볼넷</th>\n",
       "      <th>삼진</th>\n",
       "      <th>도루</th>\n",
       "      <th>BABIP</th>\n",
       "      <th>타율</th>\n",
       "      <th>출루율</th>\n",
       "      <th>장타율</th>\n",
       "      <th>OPS</th>\n",
       "      <th>wOBA</th>\n",
       "      <th>WAR</th>\n",
       "    </tr>\n",
       "  </thead>\n",
       "  <tbody>\n",
       "    <tr>\n",
       "      <th>0</th>\n",
       "      <td>테임즈</td>\n",
       "      <td>NC</td>\n",
       "      <td>142</td>\n",
       "      <td>595</td>\n",
       "      <td>472</td>\n",
       "      <td>180</td>\n",
       "      <td>47</td>\n",
       "      <td>130</td>\n",
       "      <td>140</td>\n",
       "      <td>103</td>\n",
       "      <td>91</td>\n",
       "      <td>40</td>\n",
       "      <td>0.390</td>\n",
       "      <td>0.381</td>\n",
       "      <td>0.497</td>\n",
       "      <td>0.790</td>\n",
       "      <td>1.287</td>\n",
       "      <td>0.520</td>\n",
       "      <td>11.73</td>\n",
       "    </tr>\n",
       "    <tr>\n",
       "      <th>1</th>\n",
       "      <td>나성범</td>\n",
       "      <td>NC</td>\n",
       "      <td>144</td>\n",
       "      <td>622</td>\n",
       "      <td>564</td>\n",
       "      <td>184</td>\n",
       "      <td>28</td>\n",
       "      <td>112</td>\n",
       "      <td>135</td>\n",
       "      <td>33</td>\n",
       "      <td>127</td>\n",
       "      <td>23</td>\n",
       "      <td>0.374</td>\n",
       "      <td>0.326</td>\n",
       "      <td>0.373</td>\n",
       "      <td>0.553</td>\n",
       "      <td>0.926</td>\n",
       "      <td>0.390</td>\n",
       "      <td>4.46</td>\n",
       "    </tr>\n",
       "    <tr>\n",
       "      <th>2</th>\n",
       "      <td>박민우</td>\n",
       "      <td>NC</td>\n",
       "      <td>141</td>\n",
       "      <td>617</td>\n",
       "      <td>520</td>\n",
       "      <td>158</td>\n",
       "      <td>3</td>\n",
       "      <td>111</td>\n",
       "      <td>47</td>\n",
       "      <td>73</td>\n",
       "      <td>108</td>\n",
       "      <td>46</td>\n",
       "      <td>0.373</td>\n",
       "      <td>0.304</td>\n",
       "      <td>0.399</td>\n",
       "      <td>0.404</td>\n",
       "      <td>0.803</td>\n",
       "      <td>0.364</td>\n",
       "      <td>3.52</td>\n",
       "    </tr>\n",
       "    <tr>\n",
       "      <th>3</th>\n",
       "      <td>이호준</td>\n",
       "      <td>NC</td>\n",
       "      <td>131</td>\n",
       "      <td>518</td>\n",
       "      <td>449</td>\n",
       "      <td>132</td>\n",
       "      <td>24</td>\n",
       "      <td>48</td>\n",
       "      <td>110</td>\n",
       "      <td>61</td>\n",
       "      <td>102</td>\n",
       "      <td>0</td>\n",
       "      <td>0.332</td>\n",
       "      <td>0.294</td>\n",
       "      <td>0.381</td>\n",
       "      <td>0.510</td>\n",
       "      <td>0.891</td>\n",
       "      <td>0.381</td>\n",
       "      <td>2.19</td>\n",
       "    </tr>\n",
       "    <tr>\n",
       "      <th>4</th>\n",
       "      <td>김종호</td>\n",
       "      <td>NC</td>\n",
       "      <td>133</td>\n",
       "      <td>486</td>\n",
       "      <td>424</td>\n",
       "      <td>125</td>\n",
       "      <td>4</td>\n",
       "      <td>90</td>\n",
       "      <td>36</td>\n",
       "      <td>44</td>\n",
       "      <td>65</td>\n",
       "      <td>41</td>\n",
       "      <td>0.338</td>\n",
       "      <td>0.295</td>\n",
       "      <td>0.364</td>\n",
       "      <td>0.394</td>\n",
       "      <td>0.758</td>\n",
       "      <td>0.340</td>\n",
       "      <td>1.03</td>\n",
       "    </tr>\n",
       "    <tr>\n",
       "      <th>5</th>\n",
       "      <td>조영훈</td>\n",
       "      <td>NC</td>\n",
       "      <td>103</td>\n",
       "      <td>146</td>\n",
       "      <td>124</td>\n",
       "      <td>35</td>\n",
       "      <td>8</td>\n",
       "      <td>20</td>\n",
       "      <td>35</td>\n",
       "      <td>19</td>\n",
       "      <td>36</td>\n",
       "      <td>3</td>\n",
       "      <td>0.329</td>\n",
       "      <td>0.282</td>\n",
       "      <td>0.372</td>\n",
       "      <td>0.540</td>\n",
       "      <td>0.912</td>\n",
       "      <td>0.389</td>\n",
       "      <td>1.00</td>\n",
       "    </tr>\n",
       "    <tr>\n",
       "      <th>6</th>\n",
       "      <td>손시헌</td>\n",
       "      <td>NC</td>\n",
       "      <td>140</td>\n",
       "      <td>508</td>\n",
       "      <td>440</td>\n",
       "      <td>108</td>\n",
       "      <td>13</td>\n",
       "      <td>56</td>\n",
       "      <td>58</td>\n",
       "      <td>36</td>\n",
       "      <td>66</td>\n",
       "      <td>3</td>\n",
       "      <td>0.260</td>\n",
       "      <td>0.245</td>\n",
       "      <td>0.319</td>\n",
       "      <td>0.398</td>\n",
       "      <td>0.717</td>\n",
       "      <td>0.316</td>\n",
       "      <td>0.85</td>\n",
       "    </tr>\n",
       "    <tr>\n",
       "      <th>7</th>\n",
       "      <td>이종욱</td>\n",
       "      <td>NC</td>\n",
       "      <td>125</td>\n",
       "      <td>504</td>\n",
       "      <td>440</td>\n",
       "      <td>118</td>\n",
       "      <td>5</td>\n",
       "      <td>63</td>\n",
       "      <td>52</td>\n",
       "      <td>54</td>\n",
       "      <td>78</td>\n",
       "      <td>17</td>\n",
       "      <td>0.315</td>\n",
       "      <td>0.268</td>\n",
       "      <td>0.351</td>\n",
       "      <td>0.368</td>\n",
       "      <td>0.719</td>\n",
       "      <td>0.322</td>\n",
       "      <td>0.84</td>\n",
       "    </tr>\n",
       "    <tr>\n",
       "      <th>8</th>\n",
       "      <td>모창민</td>\n",
       "      <td>NC</td>\n",
       "      <td>103</td>\n",
       "      <td>239</td>\n",
       "      <td>214</td>\n",
       "      <td>62</td>\n",
       "      <td>6</td>\n",
       "      <td>23</td>\n",
       "      <td>35</td>\n",
       "      <td>18</td>\n",
       "      <td>52</td>\n",
       "      <td>5</td>\n",
       "      <td>0.352</td>\n",
       "      <td>0.290</td>\n",
       "      <td>0.340</td>\n",
       "      <td>0.439</td>\n",
       "      <td>0.779</td>\n",
       "      <td>0.340</td>\n",
       "      <td>0.76</td>\n",
       "    </tr>\n",
       "    <tr>\n",
       "      <th>9</th>\n",
       "      <td>지석훈</td>\n",
       "      <td>NC</td>\n",
       "      <td>137</td>\n",
       "      <td>466</td>\n",
       "      <td>415</td>\n",
       "      <td>111</td>\n",
       "      <td>11</td>\n",
       "      <td>53</td>\n",
       "      <td>46</td>\n",
       "      <td>23</td>\n",
       "      <td>85</td>\n",
       "      <td>4</td>\n",
       "      <td>0.311</td>\n",
       "      <td>0.267</td>\n",
       "      <td>0.328</td>\n",
       "      <td>0.383</td>\n",
       "      <td>0.711</td>\n",
       "      <td>0.317</td>\n",
       "      <td>0.51</td>\n",
       "    </tr>\n",
       "    <tr>\n",
       "      <th>10</th>\n",
       "      <td>용덕한</td>\n",
       "      <td>NC</td>\n",
       "      <td>50</td>\n",
       "      <td>49</td>\n",
       "      <td>42</td>\n",
       "      <td>12</td>\n",
       "      <td>0</td>\n",
       "      <td>4</td>\n",
       "      <td>5</td>\n",
       "      <td>5</td>\n",
       "      <td>8</td>\n",
       "      <td>2</td>\n",
       "      <td>0.353</td>\n",
       "      <td>0.286</td>\n",
       "      <td>0.375</td>\n",
       "      <td>0.310</td>\n",
       "      <td>0.685</td>\n",
       "      <td>0.326</td>\n",
       "      <td>0.44</td>\n",
       "    </tr>\n",
       "    <tr>\n",
       "      <th>11</th>\n",
       "      <td>최재원</td>\n",
       "      <td>NC</td>\n",
       "      <td>114</td>\n",
       "      <td>102</td>\n",
       "      <td>85</td>\n",
       "      <td>21</td>\n",
       "      <td>2</td>\n",
       "      <td>31</td>\n",
       "      <td>13</td>\n",
       "      <td>10</td>\n",
       "      <td>29</td>\n",
       "      <td>14</td>\n",
       "      <td>0.352</td>\n",
       "      <td>0.247</td>\n",
       "      <td>0.366</td>\n",
       "      <td>0.412</td>\n",
       "      <td>0.778</td>\n",
       "      <td>0.350</td>\n",
       "      <td>0.30</td>\n",
       "    </tr>\n",
       "    <tr>\n",
       "      <th>12</th>\n",
       "      <td>박정준</td>\n",
       "      <td>NC</td>\n",
       "      <td>19</td>\n",
       "      <td>24</td>\n",
       "      <td>21</td>\n",
       "      <td>8</td>\n",
       "      <td>0</td>\n",
       "      <td>2</td>\n",
       "      <td>2</td>\n",
       "      <td>0</td>\n",
       "      <td>5</td>\n",
       "      <td>0</td>\n",
       "      <td>0.500</td>\n",
       "      <td>0.381</td>\n",
       "      <td>0.458</td>\n",
       "      <td>0.476</td>\n",
       "      <td>0.934</td>\n",
       "      <td>0.417</td>\n",
       "      <td>0.25</td>\n",
       "    </tr>\n",
       "    <tr>\n",
       "      <th>13</th>\n",
       "      <td>김태군</td>\n",
       "      <td>NC</td>\n",
       "      <td>144</td>\n",
       "      <td>474</td>\n",
       "      <td>421</td>\n",
       "      <td>107</td>\n",
       "      <td>6</td>\n",
       "      <td>45</td>\n",
       "      <td>52</td>\n",
       "      <td>25</td>\n",
       "      <td>77</td>\n",
       "      <td>1</td>\n",
       "      <td>0.293</td>\n",
       "      <td>0.254</td>\n",
       "      <td>0.307</td>\n",
       "      <td>0.354</td>\n",
       "      <td>0.661</td>\n",
       "      <td>0.294</td>\n",
       "      <td>0.25</td>\n",
       "    </tr>\n",
       "    <tr>\n",
       "      <th>14</th>\n",
       "      <td>조평호</td>\n",
       "      <td>NC</td>\n",
       "      <td>22</td>\n",
       "      <td>22</td>\n",
       "      <td>22</td>\n",
       "      <td>8</td>\n",
       "      <td>1</td>\n",
       "      <td>4</td>\n",
       "      <td>3</td>\n",
       "      <td>0</td>\n",
       "      <td>6</td>\n",
       "      <td>0</td>\n",
       "      <td>0.467</td>\n",
       "      <td>0.364</td>\n",
       "      <td>0.364</td>\n",
       "      <td>0.591</td>\n",
       "      <td>0.955</td>\n",
       "      <td>0.401</td>\n",
       "      <td>0.18</td>\n",
       "    </tr>\n",
       "    <tr>\n",
       "      <th>15</th>\n",
       "      <td>이창섭</td>\n",
       "      <td>NC</td>\n",
       "      <td>15</td>\n",
       "      <td>8</td>\n",
       "      <td>5</td>\n",
       "      <td>0</td>\n",
       "      <td>0</td>\n",
       "      <td>0</td>\n",
       "      <td>0</td>\n",
       "      <td>3</td>\n",
       "      <td>3</td>\n",
       "      <td>0</td>\n",
       "      <td>0.000</td>\n",
       "      <td>0.000</td>\n",
       "      <td>0.375</td>\n",
       "      <td>0.000</td>\n",
       "      <td>0.375</td>\n",
       "      <td>0.286</td>\n",
       "      <td>-0.01</td>\n",
       "    </tr>\n",
       "    <tr>\n",
       "      <th>16</th>\n",
       "      <td>김준완</td>\n",
       "      <td>NC</td>\n",
       "      <td>30</td>\n",
       "      <td>54</td>\n",
       "      <td>44</td>\n",
       "      <td>10</td>\n",
       "      <td>0</td>\n",
       "      <td>12</td>\n",
       "      <td>2</td>\n",
       "      <td>10</td>\n",
       "      <td>10</td>\n",
       "      <td>2</td>\n",
       "      <td>0.294</td>\n",
       "      <td>0.227</td>\n",
       "      <td>0.370</td>\n",
       "      <td>0.227</td>\n",
       "      <td>0.597</td>\n",
       "      <td>0.308</td>\n",
       "      <td>-0.04</td>\n",
       "    </tr>\n",
       "    <tr>\n",
       "      <th>17</th>\n",
       "      <td>강구성</td>\n",
       "      <td>NC</td>\n",
       "      <td>4</td>\n",
       "      <td>5</td>\n",
       "      <td>5</td>\n",
       "      <td>1</td>\n",
       "      <td>0</td>\n",
       "      <td>0</td>\n",
       "      <td>0</td>\n",
       "      <td>0</td>\n",
       "      <td>0</td>\n",
       "      <td>0</td>\n",
       "      <td>0.200</td>\n",
       "      <td>0.200</td>\n",
       "      <td>0.200</td>\n",
       "      <td>0.400</td>\n",
       "      <td>0.600</td>\n",
       "      <td>0.242</td>\n",
       "      <td>-0.04</td>\n",
       "    </tr>\n",
       "    <tr>\n",
       "      <th>18</th>\n",
       "      <td>강민국</td>\n",
       "      <td>NC</td>\n",
       "      <td>1</td>\n",
       "      <td>2</td>\n",
       "      <td>2</td>\n",
       "      <td>0</td>\n",
       "      <td>0</td>\n",
       "      <td>0</td>\n",
       "      <td>0</td>\n",
       "      <td>0</td>\n",
       "      <td>1</td>\n",
       "      <td>0</td>\n",
       "      <td>0.000</td>\n",
       "      <td>0.000</td>\n",
       "      <td>0.000</td>\n",
       "      <td>0.000</td>\n",
       "      <td>0.000</td>\n",
       "      <td>0.000</td>\n",
       "      <td>-0.06</td>\n",
       "    </tr>\n",
       "    <tr>\n",
       "      <th>19</th>\n",
       "      <td>김태진</td>\n",
       "      <td>NC</td>\n",
       "      <td>1</td>\n",
       "      <td>3</td>\n",
       "      <td>3</td>\n",
       "      <td>0</td>\n",
       "      <td>0</td>\n",
       "      <td>0</td>\n",
       "      <td>0</td>\n",
       "      <td>0</td>\n",
       "      <td>0</td>\n",
       "      <td>0</td>\n",
       "      <td>0.000</td>\n",
       "      <td>0.000</td>\n",
       "      <td>0.000</td>\n",
       "      <td>0.000</td>\n",
       "      <td>0.000</td>\n",
       "      <td>0.000</td>\n",
       "      <td>-0.09</td>\n",
       "    </tr>\n",
       "  </tbody>\n",
       "</table>\n",
       "</div>"
      ],
      "text/plain": [
       "    선수명  팀명   경기   타석   타수   안타  홈런   득점   타점   볼넷   삼진  도루  BABIP     타율  \\\n",
       "0   테임즈  NC  142  595  472  180  47  130  140  103   91  40  0.390  0.381   \n",
       "1   나성범  NC  144  622  564  184  28  112  135   33  127  23  0.374  0.326   \n",
       "2   박민우  NC  141  617  520  158   3  111   47   73  108  46  0.373  0.304   \n",
       "3   이호준  NC  131  518  449  132  24   48  110   61  102   0  0.332  0.294   \n",
       "4   김종호  NC  133  486  424  125   4   90   36   44   65  41  0.338  0.295   \n",
       "5   조영훈  NC  103  146  124   35   8   20   35   19   36   3  0.329  0.282   \n",
       "6   손시헌  NC  140  508  440  108  13   56   58   36   66   3  0.260  0.245   \n",
       "7   이종욱  NC  125  504  440  118   5   63   52   54   78  17  0.315  0.268   \n",
       "8   모창민  NC  103  239  214   62   6   23   35   18   52   5  0.352  0.290   \n",
       "9   지석훈  NC  137  466  415  111  11   53   46   23   85   4  0.311  0.267   \n",
       "10  용덕한  NC   50   49   42   12   0    4    5    5    8   2  0.353  0.286   \n",
       "11  최재원  NC  114  102   85   21   2   31   13   10   29  14  0.352  0.247   \n",
       "12  박정준  NC   19   24   21    8   0    2    2    0    5   0  0.500  0.381   \n",
       "13  김태군  NC  144  474  421  107   6   45   52   25   77   1  0.293  0.254   \n",
       "14  조평호  NC   22   22   22    8   1    4    3    0    6   0  0.467  0.364   \n",
       "15  이창섭  NC   15    8    5    0   0    0    0    3    3   0  0.000  0.000   \n",
       "16  김준완  NC   30   54   44   10   0   12    2   10   10   2  0.294  0.227   \n",
       "17  강구성  NC    4    5    5    1   0    0    0    0    0   0  0.200  0.200   \n",
       "18  강민국  NC    1    2    2    0   0    0    0    0    1   0  0.000  0.000   \n",
       "19  김태진  NC    1    3    3    0   0    0    0    0    0   0  0.000  0.000   \n",
       "\n",
       "      출루율    장타율    OPS   wOBA    WAR  \n",
       "0   0.497  0.790  1.287  0.520  11.73  \n",
       "1   0.373  0.553  0.926  0.390   4.46  \n",
       "2   0.399  0.404  0.803  0.364   3.52  \n",
       "3   0.381  0.510  0.891  0.381   2.19  \n",
       "4   0.364  0.394  0.758  0.340   1.03  \n",
       "5   0.372  0.540  0.912  0.389   1.00  \n",
       "6   0.319  0.398  0.717  0.316   0.85  \n",
       "7   0.351  0.368  0.719  0.322   0.84  \n",
       "8   0.340  0.439  0.779  0.340   0.76  \n",
       "9   0.328  0.383  0.711  0.317   0.51  \n",
       "10  0.375  0.310  0.685  0.326   0.44  \n",
       "11  0.366  0.412  0.778  0.350   0.30  \n",
       "12  0.458  0.476  0.934  0.417   0.25  \n",
       "13  0.307  0.354  0.661  0.294   0.25  \n",
       "14  0.364  0.591  0.955  0.401   0.18  \n",
       "15  0.375  0.000  0.375  0.286  -0.01  \n",
       "16  0.370  0.227  0.597  0.308  -0.04  \n",
       "17  0.200  0.400  0.600  0.242  -0.04  \n",
       "18  0.000  0.000  0.000  0.000  -0.06  \n",
       "19  0.000  0.000  0.000  0.000  -0.09  "
      ]
     },
     "execution_count": 47,
     "metadata": {},
     "output_type": "execute_result"
    }
   ],
   "source": [
    "nc15"
   ]
  },
  {
   "cell_type": "code",
   "execution_count": 48,
   "metadata": {
    "collapsed": true
   },
   "outputs": [],
   "source": [
    "nc15=nc15[['선수명', '팀명', '경기', '타수', '안타', '홈런']]"
   ]
  },
  {
   "cell_type": "code",
   "execution_count": 49,
   "metadata": {
    "collapsed": false
   },
   "outputs": [
    {
     "data": {
      "text/html": [
       "<div>\n",
       "<table border=\"1\" class=\"dataframe\">\n",
       "  <thead>\n",
       "    <tr style=\"text-align: right;\">\n",
       "      <th></th>\n",
       "      <th>선수명</th>\n",
       "      <th>팀명</th>\n",
       "      <th>경기</th>\n",
       "      <th>타수</th>\n",
       "      <th>안타</th>\n",
       "      <th>홈런</th>\n",
       "    </tr>\n",
       "  </thead>\n",
       "  <tbody>\n",
       "    <tr>\n",
       "      <th>0</th>\n",
       "      <td>테임즈</td>\n",
       "      <td>NC</td>\n",
       "      <td>142</td>\n",
       "      <td>472</td>\n",
       "      <td>180</td>\n",
       "      <td>47</td>\n",
       "    </tr>\n",
       "    <tr>\n",
       "      <th>1</th>\n",
       "      <td>나성범</td>\n",
       "      <td>NC</td>\n",
       "      <td>144</td>\n",
       "      <td>564</td>\n",
       "      <td>184</td>\n",
       "      <td>28</td>\n",
       "    </tr>\n",
       "    <tr>\n",
       "      <th>2</th>\n",
       "      <td>박민우</td>\n",
       "      <td>NC</td>\n",
       "      <td>141</td>\n",
       "      <td>520</td>\n",
       "      <td>158</td>\n",
       "      <td>3</td>\n",
       "    </tr>\n",
       "    <tr>\n",
       "      <th>3</th>\n",
       "      <td>이호준</td>\n",
       "      <td>NC</td>\n",
       "      <td>131</td>\n",
       "      <td>449</td>\n",
       "      <td>132</td>\n",
       "      <td>24</td>\n",
       "    </tr>\n",
       "    <tr>\n",
       "      <th>4</th>\n",
       "      <td>김종호</td>\n",
       "      <td>NC</td>\n",
       "      <td>133</td>\n",
       "      <td>424</td>\n",
       "      <td>125</td>\n",
       "      <td>4</td>\n",
       "    </tr>\n",
       "    <tr>\n",
       "      <th>5</th>\n",
       "      <td>조영훈</td>\n",
       "      <td>NC</td>\n",
       "      <td>103</td>\n",
       "      <td>124</td>\n",
       "      <td>35</td>\n",
       "      <td>8</td>\n",
       "    </tr>\n",
       "    <tr>\n",
       "      <th>6</th>\n",
       "      <td>손시헌</td>\n",
       "      <td>NC</td>\n",
       "      <td>140</td>\n",
       "      <td>440</td>\n",
       "      <td>108</td>\n",
       "      <td>13</td>\n",
       "    </tr>\n",
       "    <tr>\n",
       "      <th>7</th>\n",
       "      <td>이종욱</td>\n",
       "      <td>NC</td>\n",
       "      <td>125</td>\n",
       "      <td>440</td>\n",
       "      <td>118</td>\n",
       "      <td>5</td>\n",
       "    </tr>\n",
       "    <tr>\n",
       "      <th>8</th>\n",
       "      <td>모창민</td>\n",
       "      <td>NC</td>\n",
       "      <td>103</td>\n",
       "      <td>214</td>\n",
       "      <td>62</td>\n",
       "      <td>6</td>\n",
       "    </tr>\n",
       "    <tr>\n",
       "      <th>9</th>\n",
       "      <td>지석훈</td>\n",
       "      <td>NC</td>\n",
       "      <td>137</td>\n",
       "      <td>415</td>\n",
       "      <td>111</td>\n",
       "      <td>11</td>\n",
       "    </tr>\n",
       "    <tr>\n",
       "      <th>10</th>\n",
       "      <td>용덕한</td>\n",
       "      <td>NC</td>\n",
       "      <td>50</td>\n",
       "      <td>42</td>\n",
       "      <td>12</td>\n",
       "      <td>0</td>\n",
       "    </tr>\n",
       "    <tr>\n",
       "      <th>11</th>\n",
       "      <td>최재원</td>\n",
       "      <td>NC</td>\n",
       "      <td>114</td>\n",
       "      <td>85</td>\n",
       "      <td>21</td>\n",
       "      <td>2</td>\n",
       "    </tr>\n",
       "    <tr>\n",
       "      <th>12</th>\n",
       "      <td>박정준</td>\n",
       "      <td>NC</td>\n",
       "      <td>19</td>\n",
       "      <td>21</td>\n",
       "      <td>8</td>\n",
       "      <td>0</td>\n",
       "    </tr>\n",
       "    <tr>\n",
       "      <th>13</th>\n",
       "      <td>김태군</td>\n",
       "      <td>NC</td>\n",
       "      <td>144</td>\n",
       "      <td>421</td>\n",
       "      <td>107</td>\n",
       "      <td>6</td>\n",
       "    </tr>\n",
       "    <tr>\n",
       "      <th>14</th>\n",
       "      <td>조평호</td>\n",
       "      <td>NC</td>\n",
       "      <td>22</td>\n",
       "      <td>22</td>\n",
       "      <td>8</td>\n",
       "      <td>1</td>\n",
       "    </tr>\n",
       "    <tr>\n",
       "      <th>15</th>\n",
       "      <td>이창섭</td>\n",
       "      <td>NC</td>\n",
       "      <td>15</td>\n",
       "      <td>5</td>\n",
       "      <td>0</td>\n",
       "      <td>0</td>\n",
       "    </tr>\n",
       "    <tr>\n",
       "      <th>16</th>\n",
       "      <td>김준완</td>\n",
       "      <td>NC</td>\n",
       "      <td>30</td>\n",
       "      <td>44</td>\n",
       "      <td>10</td>\n",
       "      <td>0</td>\n",
       "    </tr>\n",
       "    <tr>\n",
       "      <th>17</th>\n",
       "      <td>강구성</td>\n",
       "      <td>NC</td>\n",
       "      <td>4</td>\n",
       "      <td>5</td>\n",
       "      <td>1</td>\n",
       "      <td>0</td>\n",
       "    </tr>\n",
       "    <tr>\n",
       "      <th>18</th>\n",
       "      <td>강민국</td>\n",
       "      <td>NC</td>\n",
       "      <td>1</td>\n",
       "      <td>2</td>\n",
       "      <td>0</td>\n",
       "      <td>0</td>\n",
       "    </tr>\n",
       "    <tr>\n",
       "      <th>19</th>\n",
       "      <td>김태진</td>\n",
       "      <td>NC</td>\n",
       "      <td>1</td>\n",
       "      <td>3</td>\n",
       "      <td>0</td>\n",
       "      <td>0</td>\n",
       "    </tr>\n",
       "  </tbody>\n",
       "</table>\n",
       "</div>"
      ],
      "text/plain": [
       "    선수명  팀명   경기   타수   안타  홈런\n",
       "0   테임즈  NC  142  472  180  47\n",
       "1   나성범  NC  144  564  184  28\n",
       "2   박민우  NC  141  520  158   3\n",
       "3   이호준  NC  131  449  132  24\n",
       "4   김종호  NC  133  424  125   4\n",
       "5   조영훈  NC  103  124   35   8\n",
       "6   손시헌  NC  140  440  108  13\n",
       "7   이종욱  NC  125  440  118   5\n",
       "8   모창민  NC  103  214   62   6\n",
       "9   지석훈  NC  137  415  111  11\n",
       "10  용덕한  NC   50   42   12   0\n",
       "11  최재원  NC  114   85   21   2\n",
       "12  박정준  NC   19   21    8   0\n",
       "13  김태군  NC  144  421  107   6\n",
       "14  조평호  NC   22   22    8   1\n",
       "15  이창섭  NC   15    5    0   0\n",
       "16  김준완  NC   30   44   10   0\n",
       "17  강구성  NC    4    5    1   0\n",
       "18  강민국  NC    1    2    0   0\n",
       "19  김태진  NC    1    3    0   0"
      ]
     },
     "execution_count": 49,
     "metadata": {},
     "output_type": "execute_result"
    }
   ],
   "source": [
    "nc15"
   ]
  },
  {
   "cell_type": "code",
   "execution_count": 53,
   "metadata": {
    "collapsed": true
   },
   "outputs": [],
   "source": [
    "자료={'선수명':['테임즈', '나성범', '박민우'], \n",
    "     '안타':[180, 184, 158],\n",
    "     '홈런':[47, 28, 3]\n",
    "    }"
   ]
  },
  {
   "cell_type": "code",
   "execution_count": 56,
   "metadata": {
    "collapsed": false
   },
   "outputs": [
    {
     "data": {
      "text/html": [
       "<div>\n",
       "<table border=\"1\" class=\"dataframe\">\n",
       "  <thead>\n",
       "    <tr style=\"text-align: right;\">\n",
       "      <th></th>\n",
       "      <th>선수명</th>\n",
       "      <th>홈런</th>\n",
       "      <th>안타</th>\n",
       "      <th>타수</th>\n",
       "    </tr>\n",
       "  </thead>\n",
       "  <tbody>\n",
       "    <tr>\n",
       "      <th>0</th>\n",
       "      <td>테임즈</td>\n",
       "      <td>47</td>\n",
       "      <td>180</td>\n",
       "      <td>NaN</td>\n",
       "    </tr>\n",
       "    <tr>\n",
       "      <th>1</th>\n",
       "      <td>나성범</td>\n",
       "      <td>28</td>\n",
       "      <td>184</td>\n",
       "      <td>NaN</td>\n",
       "    </tr>\n",
       "    <tr>\n",
       "      <th>2</th>\n",
       "      <td>박민우</td>\n",
       "      <td>3</td>\n",
       "      <td>158</td>\n",
       "      <td>NaN</td>\n",
       "    </tr>\n",
       "  </tbody>\n",
       "</table>\n",
       "</div>"
      ],
      "text/plain": [
       "   선수명  홈런   안타   타수\n",
       "0  테임즈  47  180  NaN\n",
       "1  나성범  28  184  NaN\n",
       "2  박민우   3  158  NaN"
      ]
     },
     "execution_count": 56,
     "metadata": {},
     "output_type": "execute_result"
    }
   ],
   "source": [
    "pd.DataFrame(자료, columns=['선수명', '홈런', '안타', '타수']) #'NaN : 값 없음"
   ]
  },
  {
   "cell_type": "code",
   "execution_count": 57,
   "metadata": {
    "collapsed": false
   },
   "outputs": [
    {
     "data": {
      "text/html": [
       "<div>\n",
       "<table border=\"1\" class=\"dataframe\">\n",
       "  <thead>\n",
       "    <tr style=\"text-align: right;\">\n",
       "      <th></th>\n",
       "      <th>선수명</th>\n",
       "      <th>안타</th>\n",
       "      <th>홈런</th>\n",
       "    </tr>\n",
       "  </thead>\n",
       "  <tbody>\n",
       "    <tr>\n",
       "      <th>일번</th>\n",
       "      <td>테임즈</td>\n",
       "      <td>180</td>\n",
       "      <td>47</td>\n",
       "    </tr>\n",
       "    <tr>\n",
       "      <th>이번</th>\n",
       "      <td>나성범</td>\n",
       "      <td>184</td>\n",
       "      <td>28</td>\n",
       "    </tr>\n",
       "    <tr>\n",
       "      <th>삼번</th>\n",
       "      <td>박민우</td>\n",
       "      <td>158</td>\n",
       "      <td>3</td>\n",
       "    </tr>\n",
       "  </tbody>\n",
       "</table>\n",
       "</div>"
      ],
      "text/plain": [
       "    선수명   안타  홈런\n",
       "일번  테임즈  180  47\n",
       "이번  나성범  184  28\n",
       "삼번  박민우  158   3"
      ]
     },
     "execution_count": 57,
     "metadata": {},
     "output_type": "execute_result"
    }
   ],
   "source": [
    "pd.DataFrame(자료, index=['일번', '이번', '삼번'])"
   ]
  },
  {
   "cell_type": "code",
   "execution_count": 58,
   "metadata": {
    "collapsed": false
   },
   "outputs": [
    {
     "data": {
      "text/html": [
       "<div>\n",
       "<table border=\"1\" class=\"dataframe\">\n",
       "  <thead>\n",
       "    <tr style=\"text-align: right;\">\n",
       "      <th></th>\n",
       "      <th>안타</th>\n",
       "      <th>홈런</th>\n",
       "    </tr>\n",
       "    <tr>\n",
       "      <th>선수명</th>\n",
       "      <th></th>\n",
       "      <th></th>\n",
       "    </tr>\n",
       "  </thead>\n",
       "  <tbody>\n",
       "    <tr>\n",
       "      <th>테임즈</th>\n",
       "      <td>180</td>\n",
       "      <td>47</td>\n",
       "    </tr>\n",
       "    <tr>\n",
       "      <th>나성범</th>\n",
       "      <td>184</td>\n",
       "      <td>28</td>\n",
       "    </tr>\n",
       "    <tr>\n",
       "      <th>박민우</th>\n",
       "      <td>158</td>\n",
       "      <td>3</td>\n",
       "    </tr>\n",
       "  </tbody>\n",
       "</table>\n",
       "</div>"
      ],
      "text/plain": [
       "      안타  홈런\n",
       "선수명         \n",
       "테임즈  180  47\n",
       "나성범  184  28\n",
       "박민우  158   3"
      ]
     },
     "execution_count": 58,
     "metadata": {},
     "output_type": "execute_result"
    }
   ],
   "source": [
    "pd.DataFrame(자료).set_index('선수명')"
   ]
  },
  {
   "cell_type": "code",
   "execution_count": 59,
   "metadata": {
    "collapsed": false
   },
   "outputs": [
    {
     "data": {
      "text/html": [
       "<div>\n",
       "<table border=\"1\" class=\"dataframe\">\n",
       "  <thead>\n",
       "    <tr style=\"text-align: right;\">\n",
       "      <th></th>\n",
       "      <th>선수명</th>\n",
       "      <th>안타</th>\n",
       "      <th>홈런</th>\n",
       "    </tr>\n",
       "  </thead>\n",
       "  <tbody>\n",
       "    <tr>\n",
       "      <th>0</th>\n",
       "      <td>테임즈</td>\n",
       "      <td>180</td>\n",
       "      <td>47</td>\n",
       "    </tr>\n",
       "    <tr>\n",
       "      <th>1</th>\n",
       "      <td>나성범</td>\n",
       "      <td>184</td>\n",
       "      <td>28</td>\n",
       "    </tr>\n",
       "    <tr>\n",
       "      <th>2</th>\n",
       "      <td>박민우</td>\n",
       "      <td>158</td>\n",
       "      <td>3</td>\n",
       "    </tr>\n",
       "  </tbody>\n",
       "</table>\n",
       "</div>"
      ],
      "text/plain": [
       "   선수명   안타  홈런\n",
       "0  테임즈  180  47\n",
       "1  나성범  184  28\n",
       "2  박민우  158   3"
      ]
     },
     "execution_count": 59,
     "metadata": {},
     "output_type": "execute_result"
    }
   ],
   "source": [
    "기록=pd.DataFrame(자료)\n",
    "기록"
   ]
  },
  {
   "cell_type": "code",
   "execution_count": 60,
   "metadata": {
    "collapsed": false
   },
   "outputs": [
    {
     "data": {
      "text/plain": [
       "0     True\n",
       "1    False\n",
       "2    False\n",
       "Name: 선수명, dtype: bool"
      ]
     },
     "execution_count": 60,
     "metadata": {},
     "output_type": "execute_result"
    }
   ],
   "source": [
    "기록['선수명']=='테임즈'"
   ]
  },
  {
   "cell_type": "code",
   "execution_count": 62,
   "metadata": {
    "collapsed": false
   },
   "outputs": [
    {
     "data": {
      "text/html": [
       "<div>\n",
       "<table border=\"1\" class=\"dataframe\">\n",
       "  <thead>\n",
       "    <tr style=\"text-align: right;\">\n",
       "      <th></th>\n",
       "      <th>선수명</th>\n",
       "      <th>안타</th>\n",
       "      <th>홈런</th>\n",
       "    </tr>\n",
       "  </thead>\n",
       "  <tbody>\n",
       "    <tr>\n",
       "      <th>0</th>\n",
       "      <td>테임즈</td>\n",
       "      <td>180</td>\n",
       "      <td>47</td>\n",
       "    </tr>\n",
       "  </tbody>\n",
       "</table>\n",
       "</div>"
      ],
      "text/plain": [
       "   선수명   안타  홈런\n",
       "0  테임즈  180  47"
      ]
     },
     "execution_count": 62,
     "metadata": {},
     "output_type": "execute_result"
    }
   ],
   "source": [
    "기록[기록['선수명'] == '테임즈']"
   ]
  },
  {
   "cell_type": "code",
   "execution_count": 64,
   "metadata": {
    "collapsed": false
   },
   "outputs": [
    {
     "data": {
      "text/plain": [
       "<pandas.core.indexing._IXIndexer at 0x112809080>"
      ]
     },
     "execution_count": 64,
     "metadata": {},
     "output_type": "execute_result"
    }
   ],
   "source": [
    "기록.ix('테임즈')"
   ]
  },
  {
   "cell_type": "code",
   "execution_count": 65,
   "metadata": {
    "collapsed": true
   },
   "outputs": [],
   "source": [
    "기록['연도']=2015"
   ]
  },
  {
   "cell_type": "code",
   "execution_count": 66,
   "metadata": {
    "collapsed": false
   },
   "outputs": [
    {
     "data": {
      "text/html": [
       "<div>\n",
       "<table border=\"1\" class=\"dataframe\">\n",
       "  <thead>\n",
       "    <tr style=\"text-align: right;\">\n",
       "      <th></th>\n",
       "      <th>선수명</th>\n",
       "      <th>안타</th>\n",
       "      <th>홈런</th>\n",
       "      <th>연도</th>\n",
       "    </tr>\n",
       "  </thead>\n",
       "  <tbody>\n",
       "    <tr>\n",
       "      <th>0</th>\n",
       "      <td>테임즈</td>\n",
       "      <td>180</td>\n",
       "      <td>47</td>\n",
       "      <td>2015</td>\n",
       "    </tr>\n",
       "    <tr>\n",
       "      <th>1</th>\n",
       "      <td>나성범</td>\n",
       "      <td>184</td>\n",
       "      <td>28</td>\n",
       "      <td>2015</td>\n",
       "    </tr>\n",
       "    <tr>\n",
       "      <th>2</th>\n",
       "      <td>박민우</td>\n",
       "      <td>158</td>\n",
       "      <td>3</td>\n",
       "      <td>2015</td>\n",
       "    </tr>\n",
       "  </tbody>\n",
       "</table>\n",
       "</div>"
      ],
      "text/plain": [
       "   선수명   안타  홈런    연도\n",
       "0  테임즈  180  47  2015\n",
       "1  나성범  184  28  2015\n",
       "2  박민우  158   3  2015"
      ]
     },
     "execution_count": 66,
     "metadata": {},
     "output_type": "execute_result"
    }
   ],
   "source": [
    "기록"
   ]
  },
  {
   "cell_type": "markdown",
   "metadata": {},
   "source": [
    "#### 연습\n",
    "회사의 각 임직원은 이름, 이메일, 구내번호 정보를 갖습니다. 이런 정보를 표현하는 데이터프레임을 생성합니다.데이터프래임은 3명 이상의 정보를 포함하도록 합니다. \n",
    "1. 임직원 두 명의 정보만 선택해 출력합니다.\n",
    "2. 이름과 구내정보 정보만 선택해 출력합니다.\n",
    "3. 근속연수가 5년 이상인 임직원의 정보만 선택해 출력합니다.\n",
    "4. 표의 열이 이름, 구내번호, 이메일, 근속연수 순으로 출력되도록 합니다.\n",
    "5. 어떤 2명의 임직원의 트위터 계정 정보가 등록되었을 때 해당 계정 정보를 표에 추가합니다."
   ]
  },
  {
   "cell_type": "code",
   "execution_count": 124,
   "metadata": {
    "collapsed": false
   },
   "outputs": [],
   "source": [
    "임직원=({'이름':['윤군', '이군', '김군'],\n",
    "              '이메일':['koon74@naver.com', 'ko@naver.com', 'lk@naver.com'], \n",
    "              '내선번호':['1632', '1643', '1644'],\n",
    "              '근속연수':[13, 15, 20]\n",
    "             }\n",
    "            )"
   ]
  },
  {
   "cell_type": "code",
   "execution_count": 125,
   "metadata": {
    "collapsed": false
   },
   "outputs": [
    {
     "data": {
      "text/html": [
       "<div>\n",
       "<table border=\"1\" class=\"dataframe\">\n",
       "  <thead>\n",
       "    <tr style=\"text-align: right;\">\n",
       "      <th></th>\n",
       "      <th>이름</th>\n",
       "      <th>내선번호</th>\n",
       "      <th>이메일</th>\n",
       "      <th>근속연수</th>\n",
       "    </tr>\n",
       "  </thead>\n",
       "  <tbody>\n",
       "    <tr>\n",
       "      <th>youn</th>\n",
       "      <td>윤군</td>\n",
       "      <td>1632</td>\n",
       "      <td>koon74@naver.com</td>\n",
       "      <td>13</td>\n",
       "    </tr>\n",
       "    <tr>\n",
       "      <th>lee</th>\n",
       "      <td>이군</td>\n",
       "      <td>1643</td>\n",
       "      <td>ko@naver.com</td>\n",
       "      <td>15</td>\n",
       "    </tr>\n",
       "    <tr>\n",
       "      <th>kim</th>\n",
       "      <td>김군</td>\n",
       "      <td>1644</td>\n",
       "      <td>lk@naver.com</td>\n",
       "      <td>20</td>\n",
       "    </tr>\n",
       "  </tbody>\n",
       "</table>\n",
       "</div>"
      ],
      "text/plain": [
       "      이름  내선번호               이메일  근속연수\n",
       "youn  윤군  1632  koon74@naver.com    13\n",
       "lee   이군  1643      ko@naver.com    15\n",
       "kim   김군  1644      lk@naver.com    20"
      ]
     },
     "execution_count": 125,
     "metadata": {},
     "output_type": "execute_result"
    }
   ],
   "source": [
    "임직원df=pd.DataFrame(임직원, index=['youn', 'lee', 'kim'], columns=['이름', '내선번호', '이메일', '근속연수'])\n",
    "임직원df"
   ]
  },
  {
   "cell_type": "code",
   "execution_count": 133,
   "metadata": {
    "collapsed": false
   },
   "outputs": [],
   "source": [
    "임직원df['트위터']=pd.Series({'윤군':'@yk', '이군':'@le'})"
   ]
  },
  {
   "cell_type": "code",
   "execution_count": 140,
   "metadata": {
    "collapsed": false
   },
   "outputs": [],
   "source": [
    "임직원dfs=임직원df[임직원df.근속연수 > 5]"
   ]
  },
  {
   "cell_type": "code",
   "execution_count": 141,
   "metadata": {
    "collapsed": false
   },
   "outputs": [
    {
     "data": {
      "text/html": [
       "<div>\n",
       "<table border=\"1\" class=\"dataframe\">\n",
       "  <thead>\n",
       "    <tr style=\"text-align: right;\">\n",
       "      <th></th>\n",
       "      <th>내선번호</th>\n",
       "      <th>이메일</th>\n",
       "      <th>근속연수</th>\n",
       "      <th>트위터</th>\n",
       "    </tr>\n",
       "    <tr>\n",
       "      <th>이름</th>\n",
       "      <th></th>\n",
       "      <th></th>\n",
       "      <th></th>\n",
       "      <th></th>\n",
       "    </tr>\n",
       "  </thead>\n",
       "  <tbody>\n",
       "    <tr>\n",
       "      <th>윤군</th>\n",
       "      <td>1632</td>\n",
       "      <td>koon74@naver.com</td>\n",
       "      <td>13</td>\n",
       "      <td>@yk</td>\n",
       "    </tr>\n",
       "    <tr>\n",
       "      <th>이군</th>\n",
       "      <td>1643</td>\n",
       "      <td>ko@naver.com</td>\n",
       "      <td>15</td>\n",
       "      <td>@le</td>\n",
       "    </tr>\n",
       "    <tr>\n",
       "      <th>김군</th>\n",
       "      <td>1644</td>\n",
       "      <td>lk@naver.com</td>\n",
       "      <td>20</td>\n",
       "      <td>NaN</td>\n",
       "    </tr>\n",
       "  </tbody>\n",
       "</table>\n",
       "</div>"
      ],
      "text/plain": [
       "    내선번호               이메일  근속연수  트위터\n",
       "이름                                   \n",
       "윤군  1632  koon74@naver.com    13  @yk\n",
       "이군  1643      ko@naver.com    15  @le\n",
       "김군  1644      lk@naver.com    20  NaN"
      ]
     },
     "execution_count": 141,
     "metadata": {},
     "output_type": "execute_result"
    }
   ],
   "source": [
    "임직원dfs"
   ]
  },
  {
   "cell_type": "code",
   "execution_count": null,
   "metadata": {
    "collapsed": true
   },
   "outputs": [],
   "source": []
  }
 ],
 "metadata": {
  "kernelspec": {
   "display_name": "Python 3",
   "language": "python",
   "name": "python3"
  },
  "language_info": {
   "codemirror_mode": {
    "name": "ipython",
    "version": 3
   },
   "file_extension": ".py",
   "mimetype": "text/x-python",
   "name": "python",
   "nbconvert_exporter": "python",
   "pygments_lexer": "ipython3",
   "version": "3.5.1"
  }
 },
 "nbformat": 4,
 "nbformat_minor": 0
}
