{
 "cells": [
  {
   "cell_type": "code",
   "execution_count": 8,
   "metadata": {
    "collapsed": false
   },
   "outputs": [],
   "source": [
    "from urllib.parse import unquote_plus as url디코딩\n",
    "import pandas as pd\n",
    "from os.path import join\n",
    "import os\n"
   ]
  },
  {
   "cell_type": "code",
   "execution_count": 4,
   "metadata": {
    "collapsed": true
   },
   "outputs": [],
   "source": [
    "import sys"
   ]
  },
  {
   "cell_type": "code",
   "execution_count": 5,
   "metadata": {
    "collapsed": false
   },
   "outputs": [
    {
     "data": {
      "text/plain": [
       "['',\n",
       " '/Users/Koon/anaconda/lib/python35.zip',\n",
       " '/Users/Koon/anaconda/lib/python3.5',\n",
       " '/Users/Koon/anaconda/lib/python3.5/plat-darwin',\n",
       " '/Users/Koon/anaconda/lib/python3.5/lib-dynload',\n",
       " '/Users/Koon/anaconda/lib/python3.5/site-packages/Sphinx-1.3.5-py3.5.egg',\n",
       " '/Users/Koon/anaconda/lib/python3.5/site-packages/setuptools-20.3-py3.5.egg',\n",
       " '/Users/Koon/anaconda/lib/python3.5/site-packages',\n",
       " '/Users/Koon/anaconda/lib/python3.5/site-packages/aeosa',\n",
       " '/Users/Koon/anaconda/lib/python3.5/site-packages/IPython/extensions',\n",
       " '/Users/Koon/.ipython']"
      ]
     },
     "execution_count": 5,
     "metadata": {},
     "output_type": "execute_result"
    }
   ],
   "source": [
    "sys.path"
   ]
  },
  {
   "cell_type": "code",
   "execution_count": 6,
   "metadata": {
    "collapsed": false
   },
   "outputs": [],
   "source": [
    "# 특정경로에 있는 모듈을 추가\n",
    "모듈경로='/Users/Koon/Documents/bigpy/modules'\n",
    "sys.path.append(모듈경로)"
   ]
  },
  {
   "cell_type": "markdown",
   "metadata": {},
   "source": [
    "내 모듈 위치 추가\n",
    "- 경로는 절대경로로 추가해야 합니다.\n",
    "- sys.path 경로의 모듈 파일명은 영문이어야 합니다.\n",
    "\n",
    "시스템에 직접 추가 할려면 : 환경변수에 __PYTHONPATH ='.....'__ 인차를 추가하여 모듈위치를 등록"
   ]
  },
  {
   "cell_type": "code",
   "execution_count": 7,
   "metadata": {
    "collapsed": false
   },
   "outputs": [
    {
     "data": {
      "text/plain": [
       "['',\n",
       " '/Users/Koon/anaconda/lib/python35.zip',\n",
       " '/Users/Koon/anaconda/lib/python3.5',\n",
       " '/Users/Koon/anaconda/lib/python3.5/plat-darwin',\n",
       " '/Users/Koon/anaconda/lib/python3.5/lib-dynload',\n",
       " '/Users/Koon/anaconda/lib/python3.5/site-packages/Sphinx-1.3.5-py3.5.egg',\n",
       " '/Users/Koon/anaconda/lib/python3.5/site-packages/setuptools-20.3-py3.5.egg',\n",
       " '/Users/Koon/anaconda/lib/python3.5/site-packages',\n",
       " '/Users/Koon/anaconda/lib/python3.5/site-packages/aeosa',\n",
       " '/Users/Koon/anaconda/lib/python3.5/site-packages/IPython/extensions',\n",
       " '/Users/Koon/.ipython',\n",
       " '/Users/Koon/Documents/bigpy/modules']"
      ]
     },
     "execution_count": 7,
     "metadata": {},
     "output_type": "execute_result"
    }
   ],
   "source": [
    "sys.path"
   ]
  },
  {
   "cell_type": "code",
   "execution_count": 9,
   "metadata": {
    "collapsed": true
   },
   "outputs": [],
   "source": [
    "from exim import importGrid, searchGrid, readExcel"
   ]
  },
  {
   "cell_type": "code",
   "execution_count": 10,
   "metadata": {
    "collapsed": true
   },
   "outputs": [],
   "source": [
    "데이터경로='./data/koreaexim/international/'\n",
    "\n",
    "# 경로='./data/koreaexim/international/Global+Market+Daily+Table%28%EA%B0%92%EB%B3%B5%EC%82%AC%29_0803.xls'"
   ]
  },
  {
   "cell_type": "code",
   "execution_count": null,
   "metadata": {
    "collapsed": true
   },
   "outputs": [],
   "source": [
    "국제0803=readExcel(경로)\n",
    "표범위=searchGrid(국제0803)\n",
    "표사전=importGrid(국제0803, 표범위)\n",
    "\n",
    "파일목록=os.listdir(데이터경로)\n",
    "파일목록\n",
    "\n",
    "표사전2 = {}\n",
    "\n",
    "for 경로 in 파일목록:\n",
    "    프레임 = readExcel(join(데이터경로, 경로))\n",
    "    표범위 = searchGrid(프레임)\n",
    "    표사전2 = importGrid(프레임, 표범위)"
   ]
  },
  {
   "cell_type": "markdown",
   "metadata": {},
   "source": [
    "## PyPI 패키지 설치"
   ]
  },
  {
   "cell_type": "code",
   "execution_count": 14,
   "metadata": {
    "collapsed": false
   },
   "outputs": [
    {
     "name": "stdout",
     "output_type": "stream",
     "text": [
      "1일차 리뷰.ipynb\r\n",
      "2일차-pandas자료구조.ipynb\r\n",
      "2일차-영화.ipynb\r\n",
      "2일차-이름.ipynb\r\n",
      "2일차-연산.ipynb\r\n",
      "2일차-신생아.ipynb\r\n",
      "3일차-Pandas - DataFrame.ipynb\r\n",
      "3일차-함수 적용과 매핑.ipynb\r\n",
      "3일차-복습.ipynb\r\n",
      "3일차-모듈화 및 함수적용.ipynb\r\n",
      "3일차-정렬과순위.ipynb\r\n",
      "3일차-산술연산과 데이터 정렬.ipynb\r\n",
      "3일차-라이브러리활용.ipynb\r\n",
      "4일차-계층색인.ipynb\r\n",
      "4일차-데이터입출력.ipynb\r\n",
      "4일차-엑셀과웹처리.ipynb\r\n",
      "5일차-개별엑셀시트에저장.ipynb\r\n",
      "\u001b[31mCaseStudy.ipynb\u001b[m\u001b[m\r\n",
      "\u001b[31mDataAggregation.ipynb\u001b[m\u001b[m\r\n",
      "\u001b[31mDataIO.ipynb\u001b[m\u001b[m\r\n",
      "\u001b[31mDataPrepare.ipynb\u001b[m\u001b[m\r\n",
      "\u001b[31mDataVisualization.ipynb\u001b[m\u001b[m\r\n",
      "NC시즌1314.xlsx\r\n",
      "NC시즌1315.xlsx\r\n",
      "\u001b[31mNumPy.ipynb\u001b[m\u001b[m\r\n",
      "\u001b[31mREADME.md\u001b[m\u001b[m\r\n",
      "\u001b[31mTimeSeries.ipynb\u001b[m\u001b[m\r\n",
      "\u001b[31mTwitterAPI.ipynb\u001b[m\u001b[m\r\n",
      "\u001b[34m__pycache__\u001b[m\u001b[m\r\n",
      "ch02-path.ipynb\r\n",
      "code 01.ipynb\r\n",
      "\u001b[30m\u001b[43mdata\u001b[m\u001b[m\r\n",
      "\u001b[34mmodules\u001b[m\u001b[m\r\n",
      "movie_users.xlsx\r\n",
      "\u001b[31mpandas.ipynb\u001b[m\u001b[m\r\n",
      "\u001b[31mprocess_excel.ipynb\u001b[m\u001b[m\r\n",
      "\u001b[31msims.py\u001b[m\u001b[m\r\n",
      "text_io.py\r\n",
      "untitled.txt\r\n",
      "이름.csv\r\n",
      "주석.txt\r\n",
      "이름.xlsx\r\n",
      "날씨분석.ipynb\r\n",
      "영화평점.ipynb\r\n",
      "누락된데이터.txt\r\n"
     ]
    }
   ],
   "source": [
    "!ls"
   ]
  },
  {
   "cell_type": "code",
   "execution_count": 15,
   "metadata": {
    "collapsed": false
   },
   "outputs": [
    {
     "name": "stdout",
     "output_type": "stream",
     "text": [
      "\r\n",
      "Usage:   \r\n",
      "  pip <command> [options]\r\n",
      "\r\n",
      "Commands:\r\n",
      "  install                     Install packages.\r\n",
      "  download                    Download packages.\r\n",
      "  uninstall                   Uninstall packages.\r\n",
      "  freeze                      Output installed packages in requirements format.\r\n",
      "  list                        List installed packages.\r\n",
      "  show                        Show information about installed packages.\r\n",
      "  search                      Search PyPI for packages.\r\n",
      "  wheel                       Build wheels from your requirements.\r\n",
      "  hash                        Compute hashes of package archives.\r\n",
      "  completion                  A helper command used for command completion\r\n",
      "  help                        Show help for commands.\r\n",
      "\r\n",
      "General Options:\r\n",
      "  -h, --help                  Show help.\r\n",
      "  --isolated                  Run pip in an isolated mode, ignoring\r\n",
      "                              environment variables and user configuration.\r\n",
      "  -v, --verbose               Give more output. Option is additive, and can be\r",
      "\r\n",
      "                              used up to 3 times.\r\n",
      "  -V, --version               Show version and exit.\r\n",
      "  -q, --quiet                 Give less output.\r\n",
      "  --log <path>                Path to a verbose appending log.\r\n",
      "  --proxy <proxy>             Specify a proxy in the form\r\n",
      "                              [user:passwd@]proxy.server:port.\r\n",
      "  --retries <retries>         Maximum number of retries each connection should\r\n",
      "                              attempt (default 5 times).\r\n",
      "  --timeout <sec>             Set the socket timeout (default 15 seconds).\r\n",
      "  --exists-action <action>    Default action when a path already exists:\r\n",
      "                              (s)witch, (i)gnore, (w)ipe, (b)ackup.\r\n",
      "  --trusted-host <hostname>   Mark this host as trusted, even though it does\r\n",
      "                              not have valid or any HTTPS.\r\n",
      "  --cert <path>               Path to alternate CA bundle.\r\n",
      "  --client-cert <path>        Path to SSL client certificate, a single file\r\n",
      "                              containing the private key and the certificate\r\n",
      "                              in PEM format.\r\n",
      "  --cache-dir <dir>           Store the cache data in <dir>.\r\n",
      "  --no-cache-dir              Disable the cache.\r\n",
      "  --disable-pip-version-check\r\n",
      "                              Don't periodically check PyPI to determine\r\n",
      "                              whether a new version of pip is available for\r\n",
      "                              download. Implied with --no-index.\r\n"
     ]
    }
   ],
   "source": [
    "!pip "
   ]
  },
  {
   "cell_type": "code",
   "execution_count": 18,
   "metadata": {
    "collapsed": false
   },
   "outputs": [
    {
     "name": "stdout",
     "output_type": "stream",
     "text": [
      "alabaster (0.7.7)\n",
      "anaconda-client (1.4.0)\n",
      "anaconda-navigator (1.1.0)\n",
      "appnope (0.1.0)\n",
      "appscript (1.0.1)\n",
      "argcomplete (1.0.0)\n",
      "astropy (1.1.2)\n",
      "Babel (2.2.0)\n",
      "beautifulsoup4 (4.4.1)\n",
      "bitarray (0.8.1)\n",
      "blaze (0.9.1)\n",
      "bokeh (0.11.1)\n",
      "boto (2.39.0)\n",
      "Bottleneck (1.0.0)\n",
      "cffi (1.5.2)\n",
      "chest (0.2.3)\n",
      "cloudpickle (0.1.1)\n",
      "clyent (1.2.1)\n",
      "colorama (0.3.7)\n",
      "conda (4.1.0)\n",
      "conda-build (0+unknown)\n",
      "conda-env (2.5.0a0)\n",
      "conda-manager (0.3.1)\n",
      "configobj (5.0.6)\n",
      "cryptography (1.3)\n",
      "cycler (0.10.0)\n",
      "Cython (0.23.4)\n",
      "cytoolz (0.7.5)\n",
      "dask (0.8.1)\n",
      "datashape (0.5.1)\n",
      "decorator (4.0.9)\n",
      "dill (0.2.4)\n",
      "docutils (0.12)\n",
      "dynd (0.7.3.dev1)\n",
      "et-xmlfile (1.0.1)\n",
      "fastcache (1.0.2)\n",
      "Flask (0.10.1)\n",
      "Flask-Cors (2.1.2)\n",
      "gevent (1.1.0)\n",
      "greenlet (0.4.9)\n",
      "h5py (2.5.0)\n",
      "HeapDict (1.0.0)\n",
      "idna (2.0)\n",
      "ipykernel (4.3.1)\n",
      "ipython (4.1.2)\n",
      "ipython-genutils (0.1.0)\n",
      "ipywidgets (4.1.1)\n",
      "itsdangerous (0.24)\n",
      "jdcal (1.2)\n",
      "jedi (0.9.0)\n",
      "Jinja2 (2.8)\n",
      "jsonschema (2.4.0)\n",
      "jupyter (1.0.0)\n",
      "jupyter-client (4.2.2)\n",
      "jupyter-console (4.1.1)\n",
      "jupyter-core (4.1.0)\n",
      "llvmlite (0.9.0)\n",
      "locket (0.2.0)\n",
      "lxml (3.6.0)\n",
      "MarkupSafe (0.23)\n",
      "matplotlib (1.5.1)\n",
      "mistune (0.7.2)\n",
      "mpmath (0.19)\n",
      "multipledispatch (0.4.8)\n",
      "nbconvert (4.1.0)\n",
      "nbformat (4.0.1)\n",
      "networkx (1.11)\n",
      "nltk (3.2)\n",
      "nose (1.3.7)\n",
      "notebook (4.1.0)\n",
      "numba (0.24.0)\n",
      "numexpr (2.5)\n",
      "numpy (1.10.4)\n",
      "odo (0.4.2)\n",
      "openpyxl (2.3.2)\n",
      "pandas (0.18.0)\n",
      "pandas-datareader (0.2.1)\n",
      "pandasql (0.7.3)\n",
      "partd (0.3.2)\n",
      "path.py (0.0.0)\n",
      "patsy (0.4.0)\n",
      "pep8 (1.7.0)\n",
      "pexpect (4.0.1)\n",
      "pickleshare (0.5)\n",
      "Pillow (3.1.1)\n",
      "pip (8.1.1)\n",
      "ply (3.8)\n",
      "psutil (4.1.0)\n",
      "ptyprocess (0.5)\n",
      "py (1.4.31)\n",
      "pyasn1 (0.1.9)\n",
      "pycosat (0.6.1)\n",
      "pycparser (2.14)\n",
      "pycrypto (2.6.1)\n",
      "pycurl (7.19.5.3)\n",
      "pyflakes (1.1.0)\n",
      "Pygments (2.1.1)\n",
      "pyOpenSSL (0.15.1)\n",
      "pyparsing (2.0.3)\n",
      "pytest (2.8.5)\n",
      "python-dateutil (2.5.1)\n",
      "pytz (2016.2)\n",
      "PyYAML (3.11)\n",
      "pyzmq (15.2.0)\n",
      "QtAwesome (0.3.2)\n",
      "qtconsole (4.2.0)\n",
      "QtPy (1.0)\n",
      "redis (2.10.3)\n",
      "requests (2.9.1)\n",
      "requests-file (1.4)\n",
      "rope-py3k (0.9.4.post1)\n",
      "ruamel-yaml (-VERSION)\n",
      "scikit-image (0.12.3)\n",
      "scikit-learn (0.17.1)\n",
      "scipy (0.17.0)\n",
      "setuptools (20.3)\n",
      "simplegeneric (0.8.1)\n",
      "singledispatch (3.4.0.3)\n",
      "six (1.10.0)\n",
      "snowballstemmer (1.2.1)\n",
      "sockjs-tornado (1.0.1)\n",
      "Sphinx (1.3.5)\n",
      "sphinx-rtd-theme (0.1.9)\n",
      "spyder (2.3.8)\n",
      "SQLAlchemy (1.0.12)\n",
      "statsmodels (0.6.1)\n",
      "sympy (1.0)\n",
      "tables (3.2.2)\n",
      "terminado (0.5)\n",
      "toolz (0.7.4)\n",
      "tornado (4.3)\n",
      "traitlets (4.2.1)\n",
      "unicodecsv (0.14.1)\n",
      "Werkzeug (0.11.4)\n",
      "wheel (0.29.0)\n",
      "xlrd (0.9.4)\n",
      "XlsxWriter (0.8.4)\n",
      "xlwings (0.7.0)\n",
      "xlwt (1.0.0)\n",
      "\u001b[33mYou are using pip version 8.1.1, however version 8.1.2 is available.\n",
      "You should consider upgrading via the 'pip install --upgrade pip' command.\u001b[0m\n"
     ]
    }
   ],
   "source": [
    "!pip list\n",
    "# 설치된 패키지 목록을 보여줌"
   ]
  },
  {
   "cell_type": "code",
   "execution_count": 19,
   "metadata": {
    "collapsed": false
   },
   "outputs": [
    {
     "name": "stdout",
     "output_type": "stream",
     "text": [
      "Send2Trash (1.3.0)    - Send file to trash natively under Mac OS X, Windows\n",
      "                        and Linux.\n",
      "Send2Trash3k (1.2.0)  - Send file to trash natively under Mac OS X, Windows\n",
      "                        and Linux.\n",
      "\u001b[33mYou are using pip version 8.1.1, however version 8.1.2 is available.\n",
      "You should consider upgrading via the 'pip install --upgrade pip' command.\u001b[0m\n"
     ]
    }
   ],
   "source": [
    "#패키지 목록 검색\n",
    "!pip search send2trash"
   ]
  },
  {
   "cell_type": "code",
   "execution_count": 20,
   "metadata": {
    "collapsed": false
   },
   "outputs": [
    {
     "name": "stdout",
     "output_type": "stream",
     "text": [
      "IPyMongo (0.0dev-20120914)              - IPython extension and wrapper for\n",
      "                                          using with MongoDB\n",
      "mnj (0.1.4.dev0)                        - Mnj (Mongo Energy) is a helper\n",
      "                                          library to simplify PyMongo\n",
      "                                          interaction\n",
      "pymongo_hadoop (1.1.0)                  - UNKNOWN\n",
      "happymongo (0.1.1)                      - Python module for making it easy and\n",
      "                                          consistent to connect to MongoDB via\n",
      "                                          PyMongo either in Flask or in a non-\n",
      "                                          flask application\n",
      "AsynMongo (0.2.5)                       - Python Asynchronous MongoDB Driver\n",
      "                                          Use Pymongo\n",
      "conmongo (0.0.2)                        - A Flask microplugin based on pymongo\n",
      "pymorm (0.4.6)                          - Really simple pymongo-based ODM\n",
      "docmongo (1.0.0)                        - A high abastract architecture with\n",
      "                                          pymongo\n",
      "dat (1.0.0)                             - A thin orm for pymongo\n",
      "CherrypyMongoDB (0.2.1)                 - MongoDb Tool For Cherrypy\n",
      "mongoUtils (1.0.9)                      - Utilities for mongoDB mainly based\n",
      "                                          on pymongo python mongoDB driver,\n",
      "                                          see:http://github.com/mongodb/mongo-\n",
      "                                          python-driver\n",
      "pymongogo (0.5)                         - A Pymongo wrapper\n",
      "mongodog (0.1.1)                        - MongoDog is a library designed to\n",
      "                                          sniff out the things that your\n",
      "                                          application is doing within a mongo\n",
      "                                          database. It plugs itself in between\n",
      "                                          your app and pymongo and logs all of\n",
      "                                          the commands that your application\n",
      "                                          sends to the server.\n",
      "SixIsles (0.0.3)                        - PyMongo Based ActiveRecord Pattern\n",
      "                                          O/R Mapper\n",
      "scrapymongocache (0.1.0)                - A base pipeline and a decorator to\n",
      "                                          allow you to cache item fields in\n",
      "                                          MongoDB collections.\n",
      "pymongohandler (0.1)                    - A wrapper for Python & mongoDB\n",
      "pymongo-bongo (0.1.3)                   - Sytax sugar for PyMongo and MongoDB\n",
      "                                          <http://www.mongodb.org>\n",
      "ScrapyMongoDB (0.4.1)                   - Scrapy pipeline which allow you to\n",
      "                                          store scrapy items in MongoDB\n",
      "                                          database.\n",
      "pyliquib (0.1.2)                        - A MongoDB migration tool with\n",
      "                                          pymongo inspired by Liquibase\n",
      "mongorm (0.7.0)                         - An extremely thin ORM-ish wrapper\n",
      "                                          over pymongo.\n",
      "mongu (0.4.4)                           - Yet another Python Object-Document\n",
      "                                          Mapper on top of PyMongo.\n",
      "motorengine (0.9.0)                     - MotorEngine is a port of the amazing\n",
      "                                          MongoEngine Mapper. Instead of using\n",
      "                                          pymongo, MotorEngine uses Motor.\n",
      "kale (0.2.4)                            - Tiny PyMongo model layer\n",
      "pymongo-amplidata (2.8-2)               - Amplidata's fork of the python\n",
      "                                          driver for MongoDB\n",
      "                                          <http://www.mongodb.org>\n",
      "pymongolab (1.2)                        - PyMongoLab is a client library for\n",
      "                                          MongoLab REST API\n",
      "pymongo (3.2.1)                         - Python driver for MongoDB\n",
      "                                          <http://www.mongodb.org>\n",
      "MongoBit (0.3.0)                        - Simple pymongo orm\n",
      "mongomock (3.0.0)                       - Fake pymongo stub for testing simple\n",
      "                                          MongoDB-dependent code\n",
      "Flask-PyMongo (0.4.0)                   - PyMongo support for Flask\n",
      "                                          applications\n",
      "pymongo-document-modeling (0.9.0.dev7)  - PyMongo data modeling library\n",
      "pymongo_dbref (0.0.1)                   - auto mongodb dbref\n",
      "featmongo (0.1.3)                       - Wrapper around pymongo using the\n",
      "                                          serialization module of feat to\n",
      "                                          convert BSON to python object\n",
      "mongate (2.1.6)                         - A client library for Sleepy Mongoose\n",
      "                                          that provides the same interface as\n",
      "                                          Pymongo. With support for batch\n",
      "                                          operations.\n",
      "PyMongo-Frisk (0.0.6)                   - Wrapper for PyMongo Connection that\n",
      "                                          offers additional application level\n",
      "                                          monitoring. When connecting to\n",
      "                                          multiple MongoDB servers, allows you\n",
      "                                          to verify connectivity to MongoDB\n",
      "                                          slave servers.\n",
      "mongo (0.2.0)                           - Minimalistic pymongo object wrapper\n",
      "ognom (0.5.4)                           - Neat ODM wrapper around great\n",
      "                                          PyMongo driver\n",
      "\u001b[33mYou are using pip version 8.1.1, however version 8.1.2 is available.\n",
      "You should consider upgrading via the 'pip install --upgrade pip' command.\u001b[0m\n"
     ]
    }
   ],
   "source": [
    "!pip search pymongo"
   ]
  },
  {
   "cell_type": "markdown",
   "metadata": {},
   "source": [
    "패키지 설치\n",
    "1. 다운로드\n",
    "2. 설치"
   ]
  },
  {
   "cell_type": "code",
   "execution_count": 21,
   "metadata": {
    "collapsed": false
   },
   "outputs": [
    {
     "name": "stdout",
     "output_type": "stream",
     "text": [
      "Collecting pymongo\n",
      "  Downloading pymongo-3.2.2-cp35-cp35m-macosx_10_6_intel.whl (268kB)\n",
      "\u001b[K    100% |████████████████████████████████| 276kB 734kB/s \n",
      "\u001b[?25hInstalling collected packages: pymongo\n",
      "Successfully installed pymongo-3.2.2\n",
      "\u001b[33mYou are using pip version 8.1.1, however version 8.1.2 is available.\n",
      "You should consider upgrading via the 'pip install --upgrade pip' command.\u001b[0m\n"
     ]
    }
   ],
   "source": [
    "!pip install pymongo"
   ]
  },
  {
   "cell_type": "code",
   "execution_count": 23,
   "metadata": {
    "collapsed": true
   },
   "outputs": [],
   "source": [
    "#lib 의 site package 폴더에 설치됨\n",
    "import pymongo"
   ]
  },
  {
   "cell_type": "code",
   "execution_count": 25,
   "metadata": {
    "collapsed": false
   },
   "outputs": [
    {
     "name": "stdout",
     "output_type": "stream",
     "text": [
      "\u001b[31mCannot uninstall requirement send2trash, not installed\u001b[0m\r\n",
      "\u001b[33mYou are using pip version 8.1.1, however version 8.1.2 is available.\r\n",
      "You should consider upgrading via the 'pip install --upgrade pip' command.\u001b[0m\r\n"
     ]
    }
   ],
   "source": [
    "!pip uninstall send2trash"
   ]
  },
  {
   "cell_type": "markdown",
   "metadata": {},
   "source": [
    "### pandas 수동 설치\n",
    "왜 수동설치가 필요할 수도 있을까?\n",
    "\n",
    "* anaconda 배포판을 사용하지 않고 기존의 시스템에서 사용하던 파이썬에서 pandas를 활용하고자 하는 경우"
   ]
  },
  {
   "cell_type": "code",
   "execution_count": null,
   "metadata": {
    "collapsed": true
   },
   "outputs": [],
   "source": []
  }
 ],
 "metadata": {
  "kernelspec": {
   "display_name": "Python 3",
   "language": "python",
   "name": "python3"
  },
  "language_info": {
   "codemirror_mode": {
    "name": "ipython",
    "version": 3
   },
   "file_extension": ".py",
   "mimetype": "text/x-python",
   "name": "python",
   "nbconvert_exporter": "python",
   "pygments_lexer": "ipython3",
   "version": "3.5.1"
  }
 },
 "nbformat": 4,
 "nbformat_minor": 0
}
