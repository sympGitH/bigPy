{
 "cells": [
  {
   "cell_type": "code",
   "execution_count": 2,
   "metadata": {
    "collapsed": true
   },
   "outputs": [],
   "source": [
    "import pandas as pd"
   ]
  },
  {
   "cell_type": "code",
   "execution_count": 6,
   "metadata": {
    "collapsed": false
   },
   "outputs": [],
   "source": [
    "weather=pd.read_excel('/Users/Koon/Documents/bigpy/data/weather.xlsx')"
   ]
  },
  {
   "cell_type": "code",
   "execution_count": 8,
   "metadata": {
    "collapsed": false
   },
   "outputs": [
    {
     "data": {
      "text/html": [
       "<div>\n",
       "<table border=\"1\" class=\"dataframe\">\n",
       "  <thead>\n",
       "    <tr style=\"text-align: right;\">\n",
       "      <th></th>\n",
       "      <th>location</th>\n",
       "      <th>date</th>\n",
       "      <th>weekDay</th>\n",
       "      <th>avgTemp</th>\n",
       "      <th>highestTemp</th>\n",
       "      <th>lowestTemp</th>\n",
       "      <th>precipitation</th>\n",
       "      <th>snow</th>\n",
       "      <th>windSpeed</th>\n",
       "      <th>humidity</th>\n",
       "      <th>cloud</th>\n",
       "      <th>dayTime</th>\n",
       "      <th>weather</th>\n",
       "    </tr>\n",
       "  </thead>\n",
       "  <tbody>\n",
       "    <tr>\n",
       "      <th>0</th>\n",
       "      <td>seoul</td>\n",
       "      <td>2013-08-01</td>\n",
       "      <td>thur</td>\n",
       "      <td>28.0</td>\n",
       "      <td>32.1</td>\n",
       "      <td>24.5</td>\n",
       "      <td>-</td>\n",
       "      <td>-</td>\n",
       "      <td>1.8</td>\n",
       "      <td>66</td>\n",
       "      <td>7.1</td>\n",
       "      <td>6.0</td>\n",
       "      <td>구름많음</td>\n",
       "    </tr>\n",
       "    <tr>\n",
       "      <th>1</th>\n",
       "      <td>seoul</td>\n",
       "      <td>2013-08-02</td>\n",
       "      <td>fri</td>\n",
       "      <td>27.4</td>\n",
       "      <td>29.3</td>\n",
       "      <td>25.2</td>\n",
       "      <td>7.5</td>\n",
       "      <td>-</td>\n",
       "      <td>2.1</td>\n",
       "      <td>79</td>\n",
       "      <td>9.1</td>\n",
       "      <td>0.9</td>\n",
       "      <td>흐림/안개/비</td>\n",
       "    </tr>\n",
       "    <tr>\n",
       "      <th>2</th>\n",
       "      <td>seoul</td>\n",
       "      <td>2013-08-03</td>\n",
       "      <td>sat</td>\n",
       "      <td>28.9</td>\n",
       "      <td>32.6</td>\n",
       "      <td>26.7</td>\n",
       "      <td>0.1</td>\n",
       "      <td>-</td>\n",
       "      <td>3.6</td>\n",
       "      <td>72</td>\n",
       "      <td>8.1</td>\n",
       "      <td>8.9</td>\n",
       "      <td>흐림/소나기</td>\n",
       "    </tr>\n",
       "    <tr>\n",
       "      <th>3</th>\n",
       "      <td>seoul</td>\n",
       "      <td>2013-08-04</td>\n",
       "      <td>sun</td>\n",
       "      <td>28.3</td>\n",
       "      <td>31.3</td>\n",
       "      <td>26.4</td>\n",
       "      <td>4.5</td>\n",
       "      <td>-</td>\n",
       "      <td>2.5</td>\n",
       "      <td>76</td>\n",
       "      <td>8.0</td>\n",
       "      <td>4.7</td>\n",
       "      <td>흐림/소나기/안개</td>\n",
       "    </tr>\n",
       "    <tr>\n",
       "      <th>4</th>\n",
       "      <td>seoul</td>\n",
       "      <td>2013-08-05</td>\n",
       "      <td>mon</td>\n",
       "      <td>27.7</td>\n",
       "      <td>30.1</td>\n",
       "      <td>26.4</td>\n",
       "      <td>7</td>\n",
       "      <td>-</td>\n",
       "      <td>3.3</td>\n",
       "      <td>78</td>\n",
       "      <td>7.0</td>\n",
       "      <td>4.5</td>\n",
       "      <td>구름많음/안개/천둥번개/비</td>\n",
       "    </tr>\n",
       "  </tbody>\n",
       "</table>\n",
       "</div>"
      ],
      "text/plain": [
       "  location       date weekDay  avgTemp  highestTemp  lowestTemp precipitation  \\\n",
       "0    seoul 2013-08-01    thur     28.0         32.1        24.5             -   \n",
       "1    seoul 2013-08-02     fri     27.4         29.3        25.2           7.5   \n",
       "2    seoul 2013-08-03     sat     28.9         32.6        26.7           0.1   \n",
       "3    seoul 2013-08-04     sun     28.3         31.3        26.4           4.5   \n",
       "4    seoul 2013-08-05     mon     27.7         30.1        26.4             7   \n",
       "\n",
       "  snow  windSpeed  humidity  cloud  dayTime         weather  \n",
       "0    -        1.8        66    7.1      6.0            구름많음  \n",
       "1    -        2.1        79    9.1      0.9         흐림/안개/비  \n",
       "2    -        3.6        72    8.1      8.9          흐림/소나기  \n",
       "3    -        2.5        76    8.0      4.7       흐림/소나기/안개  \n",
       "4    -        3.3        78    7.0      4.5  구름많음/안개/천둥번개/비  "
      ]
     },
     "execution_count": 8,
     "metadata": {},
     "output_type": "execute_result"
    }
   ],
   "source": [
    "weather[:5]"
   ]
  },
  {
   "cell_type": "code",
   "execution_count": 11,
   "metadata": {
    "collapsed": false
   },
   "outputs": [],
   "source": [
    "w_attr=weather['weather']"
   ]
  },
  {
   "cell_type": "code",
   "execution_count": 12,
   "metadata": {
    "collapsed": false
   },
   "outputs": [
    {
     "data": {
      "text/plain": [
       "0              구름많음\n",
       "1           흐림/안개/비\n",
       "2            흐림/소나기\n",
       "3         흐림/소나기/안개\n",
       "4    구름많음/안개/천둥번개/비\n",
       "Name: weather, dtype: object"
      ]
     },
     "execution_count": 12,
     "metadata": {},
     "output_type": "execute_result"
    }
   ],
   "source": [
    "w_attr[:5]"
   ]
  },
  {
   "cell_type": "code",
   "execution_count": 13,
   "metadata": {
    "collapsed": false
   },
   "outputs": [
    {
     "data": {
      "text/plain": [
       "맑음                    226\n",
       "구름조금                  178\n",
       "구름조금/안개               160\n",
       "구름많음/안개               140\n",
       "맑음/안개                 119\n",
       "구름많음                  112\n",
       "흐림/비                   95\n",
       "흐림/안개/비                50\n",
       "흐림/안개                  40\n",
       "구름많음/비                 36\n",
       "구름많음/안개/비              33\n",
       "흐림/비/안개                27\n",
       "흐림                     23\n",
       "구름조금/비                 21\n",
       "구름많음/비/안개              17\n",
       "구름조금/안개/비              16\n",
       "구름많음/눈                  8\n",
       "구름많음/소나기                8\n",
       "구름조금/황사                 7\n",
       "맑음/황사                   7\n",
       "구름많음/소나기/안개/천둥번개        6\n",
       "흐림/비/안개/이슬비             5\n",
       "구름조금/눈                  5\n",
       "구름많음/소나기/안개             5\n",
       "구름조금/안개/황사              5\n",
       "구름조금/안개/눈               5\n",
       "흐림/눈                    5\n",
       "흐림/안개/이슬비               5\n",
       "맑음/안개/황사                4\n",
       "흐림/소나기/안개               4\n",
       "                     ... \n",
       "흐림/눈/비/안개               2\n",
       "흐림/비/안개/이슬비/황사          2\n",
       "맑음/안개/눈                 2\n",
       "맑음/소낙눈                  2\n",
       "구름많음/황사                 1\n",
       "구름많음/안개/천둥번개/눈          1\n",
       "구름조금/소나기/천둥번개           1\n",
       "구름많음/안개/진눈개비            1\n",
       "흐림/비/소나기/안개             1\n",
       "구름많음/비/안개/황사            1\n",
       "흐림/비/안개/천둥번개            1\n",
       "흐림/눈/안개                 1\n",
       "구름많음/천둥번개/비             1\n",
       "흐림/비/안개/진눈개비            1\n",
       "구름조금/비/안개/천둥번개/황사       1\n",
       "구름조금/눈/안개               1\n",
       "흐림/비/이슬비                1\n",
       "흐림/비/안개/황사              1\n",
       "흐림/소낙눈/안개               1\n",
       "구름많음/비/소나기              1\n",
       "구름조금/눈/소낙눈              1\n",
       "구름많음/소낙눈/안개             1\n",
       "구름많음/비/소나기/안개           1\n",
       "구름많음/천둥번개/눈             1\n",
       "구름많음/안개/황사              1\n",
       "구름많음/비/천둥번개             1\n",
       "구름많음/비/소나기/안개/천둥번개      1\n",
       "구름많음/눈/진눈개비             1\n",
       "구름조금/비/안개/천둥번개          1\n",
       "구름조금/황사/비               1\n",
       "Name: weather, dtype: int64"
      ]
     },
     "execution_count": 13,
     "metadata": {},
     "output_type": "execute_result"
    }
   ],
   "source": [
    "w_attr.value_counts()"
   ]
  },
  {
   "cell_type": "markdown",
   "metadata": {},
   "source": [
    "### 원래 분류 말고 가단하게 눈비 왔거나 안 왔거나\n",
    "1. contains 함수에는 정규표현식도 추가 가능."
   ]
  },
  {
   "cell_type": "code",
   "execution_count": 17,
   "metadata": {
    "collapsed": false
   },
   "outputs": [],
   "source": [
    "rain_snow=w_attr.str.contains('눈|비|소나기')"
   ]
  },
  {
   "cell_type": "markdown",
   "metadata": {},
   "source": [
    "눈/비 여부로 데이터프레임을 분류"
   ]
  },
  {
   "cell_type": "code",
   "execution_count": 20,
   "metadata": {
    "collapsed": false
   },
   "outputs": [],
   "source": [
    "rains = weather.groupby(['location', rain_snow])\n",
    "#weather['avgTemp'].mean().unstack()"
   ]
  },
  {
   "cell_type": "code",
   "execution_count": 23,
   "metadata": {
    "collapsed": false
   },
   "outputs": [
    {
     "data": {
      "text/plain": [
       "<pandas.core.groupby.DataFrameGroupBy object at 0x1119659b0>"
      ]
     },
     "execution_count": 23,
     "metadata": {},
     "output_type": "execute_result"
    }
   ],
   "source": [
    "rains"
   ]
  },
  {
   "cell_type": "code",
   "execution_count": 24,
   "metadata": {
    "collapsed": false
   },
   "outputs": [
    {
     "ename": "AttributeError",
     "evalue": "'Series' object has no attribute 'to_excel'",
     "output_type": "error",
     "traceback": [
      "\u001b[0;31m---------------------------------------------------------------------------\u001b[0m",
      "\u001b[0;31mAttributeError\u001b[0m                            Traceback (most recent call last)",
      "\u001b[0;32m<ipython-input-24-52c44e05b952>\u001b[0m in \u001b[0;36m<module>\u001b[0;34m()\u001b[0m\n\u001b[0;32m----> 1\u001b[0;31m \u001b[0mrain_snow\u001b[0m\u001b[0;34m.\u001b[0m\u001b[0mto_excel\u001b[0m\u001b[0;34m(\u001b[0m\u001b[0;34m'rain_snow.xlsx'\u001b[0m\u001b[0;34m)\u001b[0m\u001b[0;34m\u001b[0m\u001b[0m\n\u001b[0m",
      "\u001b[0;32m/Users/Koon/anaconda/lib/python3.5/site-packages/pandas/core/generic.py\u001b[0m in \u001b[0;36m__getattr__\u001b[0;34m(self, name)\u001b[0m\n\u001b[1;32m   2667\u001b[0m             \u001b[0;32mif\u001b[0m \u001b[0mname\u001b[0m \u001b[0;32min\u001b[0m \u001b[0mself\u001b[0m\u001b[0;34m.\u001b[0m\u001b[0m_info_axis\u001b[0m\u001b[0;34m:\u001b[0m\u001b[0;34m\u001b[0m\u001b[0m\n\u001b[1;32m   2668\u001b[0m                 \u001b[0;32mreturn\u001b[0m \u001b[0mself\u001b[0m\u001b[0;34m[\u001b[0m\u001b[0mname\u001b[0m\u001b[0;34m]\u001b[0m\u001b[0;34m\u001b[0m\u001b[0m\n\u001b[0;32m-> 2669\u001b[0;31m             \u001b[0;32mreturn\u001b[0m \u001b[0mobject\u001b[0m\u001b[0;34m.\u001b[0m\u001b[0m__getattribute__\u001b[0m\u001b[0;34m(\u001b[0m\u001b[0mself\u001b[0m\u001b[0;34m,\u001b[0m \u001b[0mname\u001b[0m\u001b[0;34m)\u001b[0m\u001b[0;34m\u001b[0m\u001b[0m\n\u001b[0m\u001b[1;32m   2670\u001b[0m \u001b[0;34m\u001b[0m\u001b[0m\n\u001b[1;32m   2671\u001b[0m     \u001b[0;32mdef\u001b[0m \u001b[0m__setattr__\u001b[0m\u001b[0;34m(\u001b[0m\u001b[0mself\u001b[0m\u001b[0;34m,\u001b[0m \u001b[0mname\u001b[0m\u001b[0;34m,\u001b[0m \u001b[0mvalue\u001b[0m\u001b[0;34m)\u001b[0m\u001b[0;34m:\u001b[0m\u001b[0;34m\u001b[0m\u001b[0m\n",
      "\u001b[0;31mAttributeError\u001b[0m: 'Series' object has no attribute 'to_excel'"
     ]
    }
   ],
   "source": [
    "rain_snow.to_excel('rain_snow.xlsx')"
   ]
  },
  {
   "cell_type": "code",
   "execution_count": null,
   "metadata": {
    "collapsed": true
   },
   "outputs": [],
   "source": []
  },
  {
   "cell_type": "code",
   "execution_count": null,
   "metadata": {
    "collapsed": true
   },
   "outputs": [],
   "source": []
  }
 ],
 "metadata": {
  "kernelspec": {
   "display_name": "Python 3",
   "language": "python",
   "name": "python3"
  },
  "language_info": {
   "codemirror_mode": {
    "name": "ipython",
    "version": 3
   },
   "file_extension": ".py",
   "mimetype": "text/x-python",
   "name": "python",
   "nbconvert_exporter": "python",
   "pygments_lexer": "ipython3",
   "version": "3.5.1"
  }
 },
 "nbformat": 4,
 "nbformat_minor": 0
}
