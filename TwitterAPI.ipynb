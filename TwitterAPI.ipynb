{
 "cells": [
  {
   "cell_type": "markdown",
   "metadata": {},
   "source": [
    "# 트위터 API 인증\n",
    "\n",
    "이성주, 코드베이직\n",
    "\n",
    "seongjoo@codebasic.co\n",
    "\n",
    "Twitter: <a href=\"https://twitter.com/LeeSeongjoo\">@LeeSeongjoo</a>"
   ]
  },
  {
   "cell_type": "markdown",
   "metadata": {},
   "source": [
    "트위터 API에 접근하려면, https://dev.twittter.com의 'Application Management'에서 앱을 생성해야 한다.\n",
    "앱을 생성하면, 각 앱에 대한 CONSUMER KEY가 생성된다. 해당 정보를 다음과 같이 변수로 설정한다.\n",
    "\n",
    "주의! 아래 값은 예제용이라 실제로 동작하지 않음. 생성한 값으로 대치"
   ]
  },
  {
   "cell_type": "code",
   "execution_count": 1,
   "metadata": {
    "collapsed": true
   },
   "outputs": [],
   "source": [
    "CONSUMER_KEY = 'xvz1evFS4wEEPTGEFPHBog'\n",
    "CONSUMER_SECRET = 'L8qq9PZyRg6ieKGEKhZolGC0vJWLw8iEJ88DRdyOg'"
   ]
  },
  {
   "cell_type": "markdown",
   "metadata": {},
   "source": [
    "트위터 API에서 인증을 받는 과정은 HTTP 헤더 등을 적절하게 구성해야 한다. 아래 코드는 인증 과정을 수행하는 bigpy.twitter 모듈을 사용했다.\n",
    "\n",
    "직접 구성하고자 하는 경우는 다음 웹 문서를 참조하기 바란다.\n",
    "\n",
    "OAUTH2 인증 요청에 필요한 HTTP POST 구성\n",
    "\n",
    "https://dev.twitter.com/oauth/reference/post/oauth2/token"
   ]
  },
  {
   "cell_type": "code",
   "execution_count": 2,
   "metadata": {
    "collapsed": false
   },
   "outputs": [],
   "source": [
    "from bigpy.twitter import Twitter\n",
    "\n",
    "twitter = Twitter(CONSUMER_KEY, CONSUMER_SECRET)"
   ]
  },
  {
   "cell_type": "markdown",
   "metadata": {},
   "source": [
    "정상적으로 수행이 되면 다음고 같이 ACCESS TOKEN이 설정된다. (물론, 아래에 표시된 값은 실제 토큰값이 아니다.)"
   ]
  },
  {
   "cell_type": "code",
   "execution_count": 12,
   "metadata": {
    "collapsed": false
   },
   "outputs": [
    {
     "data": {
      "text/plain": [
       "u'cAA%AKCABA13WBkDUasFnnJfAA2AuAe3zP9Y8q7AAAz8hAArSA6MqAAHCAEwIAr8PbMCc%A2AAAIAIhEli1%AGzeiPwxka2ABBCAzvAL03U'"
      ]
     },
     "execution_count": 12,
     "metadata": {},
     "output_type": "execute_result"
    }
   ],
   "source": [
    "twitter.ACCESS_TOKEN"
   ]
  },
  {
   "cell_type": "markdown",
   "metadata": {
    "collapsed": false
   },
   "source": [
    "인증을 성공적으로 수행해서 ACCESS_TOKEN을 받으면, 인제 API에 요청을 보낼 수 있다.\n",
    "\n",
    "요청을 받는 예시로 트위터에서 검색을 수행해 보자."
   ]
  },
  {
   "cell_type": "code",
   "execution_count": 5,
   "metadata": {
    "collapsed": false
   },
   "outputs": [
    {
     "name": "stdout",
     "output_type": "stream",
     "text": [
      "[블로터 연재 기고] 빅데이터, 파이썬에 길을 묻다 (1) - 왜 파이썬인가?\n",
      "http://t.co/beqHSNA3CO\n",
      "빅데이터, ‘파이썬’에 길을 묻다 http://t.co/DPuY4X43eP\n",
      "초안을 마구 써 놓고 폭풍 수정 중. 수정 제안과 수정에 대한 의견 환영 :)\n",
      "트위터와 빅데이터 (작성 중) - 빅데이터, 파이썬에 길을 묻다 (3) \n",
      "http://t.co/vhDH0LlAKH http://t.co/jvDmtmJRTl\n",
      "빅데이터 관련 블로터 연재 기사 원고. 작성 중인 원고에 직접 수정/추가를 제안할 수 있도록 구글 문서로 작성 중: \n",
      "\n",
      "트위터와 빅데이터 (작성 중) - 빅데이터, 파이썬에 길을 묻다 (3) \n",
      "http://t.co/vhDH0LlAKH\n"
     ]
    }
   ],
   "source": [
    "search_result = twitter.search(u'파이썬, 빅데이터')\n",
    "for status in search_result['statuses']:\n",
    "    print(status['text'])"
   ]
  },
  {
   "cell_type": "markdown",
   "metadata": {
    "collapsed": true
   },
   "source": [
    "# 리트윗 사용자 목록 가져오기"
   ]
  },
  {
   "cell_type": "code",
   "execution_count": 3,
   "metadata": {
    "collapsed": false
   },
   "outputs": [],
   "source": [
    "from bigpy.twitter import TwitterStatus"
   ]
  },
  {
   "cell_type": "markdown",
   "metadata": {
    "collapsed": true
   },
   "source": [
    "트윗은 정수로된 고유한 ID 값을 갖는다. 아래는 예시 트윗 ID을 사용했다.\n",
    "출력되는 결과는, 해당 트윗을 리트윗한 사용자들의 ID 값이다."
   ]
  },
  {
   "cell_type": "code",
   "execution_count": 5,
   "metadata": {
    "collapsed": false
   },
   "outputs": [
    {
     "name": "stdout",
     "output_type": "stream",
     "text": [
      "[2864749010, 2728578117, 2390428970, 2392623769, 2298388902, 2218822532, 2294010576, 2298665443, 2295646148, 2392372830, 2489878842, 2537896318, 1456646244, 2369342556, 908315570, 134681213, 2207996772, 1323648805, 2209966914, 1377248521, 450742576, 2169915990, 2168731405, 1032613423, 1897558387, 1651460672, 552136201, 1961595428, 622040005, 1723067108, 1940180042, 1921253352, 1916881861, 1909516183, 1899472064, 1409030454, 551190078, 98585322, 1287005810, 1857413564, 1507117872, 616207096, 1707416846, 795061039, 245171204, 1671544250, 550058321, 1661133924, 302907601, 1184312352, 1360513801, 1627139449, 1633417872, 1624546278, 1549848770, 1606806666, 1286204832, 102781433, 1547689992, 1549487112, 1546030177, 1232717508, 1366161096, 1470134192, 1538866020, 1525394654, 1360382390, 1485097536, 1520331235, 1360663580, 1517720449, 62084055, 1092628730, 1362034669, 1214653182, 556802885, 364135790, 97703013, 608968006, 427801669, 445312604, 1451977760, 573709750]\n"
     ]
    }
   ],
   "source": [
    "tweet_id = 327473909412814850\n",
    "twitterStatus = TwitterStatus(twitter, tweet_id)\n",
    "retweeter_list = twitterStatus.get_retweeters()\n",
    "print(retweeter_list)"
   ]
  }
 ],
 "metadata": {
  "kernelspec": {
   "display_name": "Python 2",
   "language": "python",
   "name": "python2"
  },
  "language_info": {
   "codemirror_mode": {
    "name": "ipython",
    "version": 2
   },
   "file_extension": ".py",
   "mimetype": "text/x-python",
   "name": "python",
   "nbconvert_exporter": "python",
   "pygments_lexer": "ipython2",
   "version": "2.7.9"
  }
 },
 "nbformat": 4,
 "nbformat_minor": 0
}
